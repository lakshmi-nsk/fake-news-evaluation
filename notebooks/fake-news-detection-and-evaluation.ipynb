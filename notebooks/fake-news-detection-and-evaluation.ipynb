{
  "nbformat": 4,
  "nbformat_minor": 0,
  "metadata": {
    "colab": {
      "provenance": [],
      "collapsed_sections": [
        "lDJ-pmwxYdkV",
        "RkpC0wRT58k_"
      ]
    },
    "kernelspec": {
      "name": "python3",
      "display_name": "Python 3"
    },
    "language_info": {
      "name": "python"
    }
  },
  "cells": [
    {
      "cell_type": "markdown",
      "source": [
        "#**Project Name: Fake News Detection and Evaluation with Confusion Matrix**\n"
      ],
      "metadata": {
        "id": "1yvQMZ1cTPbm"
      }
    },
    {
      "cell_type": "markdown",
      "source": [
        "# **Problem Statement:**\n"
      ],
      "metadata": {
        "id": "d54yPWrsICZS"
      }
    },
    {
      "cell_type": "markdown",
      "source": [
        "This project addresses the challenge of distinguishing fake news from true news using machine learning techniques. A classification model is trained on textual data, and its effectiveness is evaluated through a confusion matrix to assess accuracy and misclassification patterns."
      ],
      "metadata": {
        "id": "_9cBrQ6oInIy"
      }
    },
    {
      "cell_type": "markdown",
      "source": [
        "# **Data Introduction:**"
      ],
      "metadata": {
        "id": "se8calhAIy8h"
      }
    },
    {
      "cell_type": "markdown",
      "source": [
        "This dataset was compiled from real-world sources; the genuine articles were scraped from Reuters.com (a reputable news website). In contrast, the fake news articles were gathered from various unreliable platforms identified by Politifact (a U.S.-based fact-checking organization) and Wikipedia. The collection covers articles on diverse subjects, though most of them center around politics and world news.\n",
        "\n",
        "The dataset cab also be downloaded from kaggle using the link: www.kaggle.com/datasets/emineyetm/fake-news-detection-datasets"
      ],
      "metadata": {
        "id": "C-cQiBSbI6vB"
      }
    },
    {
      "cell_type": "markdown",
      "source": [
        "# **Import Packages**"
      ],
      "metadata": {
        "id": "Vr0Ag7NJT4gq"
      }
    },
    {
      "cell_type": "markdown",
      "source": [
        "Imported all required libraries and installed any missing packages in Google Colab."
      ],
      "metadata": {
        "id": "CN9d_su1N80T"
      }
    },
    {
      "cell_type": "code",
      "source": [
        "# installed missing package gensim\n",
        "!pip install gensim"
      ],
      "metadata": {
        "colab": {
          "base_uri": "https://localhost:8080/"
        },
        "id": "QS8LS3ErZQTy",
        "outputId": "6c8441da-9a65-4798-e3da-19bcc808db11"
      },
      "execution_count": 41,
      "outputs": [
        {
          "output_type": "stream",
          "name": "stdout",
          "text": [
            "Requirement already satisfied: gensim in /usr/local/lib/python3.12/dist-packages (4.3.3)\n",
            "Requirement already satisfied: numpy<2.0,>=1.18.5 in /usr/local/lib/python3.12/dist-packages (from gensim) (1.26.4)\n",
            "Requirement already satisfied: scipy<1.14.0,>=1.7.0 in /usr/local/lib/python3.12/dist-packages (from gensim) (1.13.1)\n",
            "Requirement already satisfied: smart-open>=1.8.1 in /usr/local/lib/python3.12/dist-packages (from gensim) (7.3.0.post1)\n",
            "Requirement already satisfied: wrapt in /usr/local/lib/python3.12/dist-packages (from smart-open>=1.8.1->gensim) (1.17.3)\n"
          ]
        }
      ]
    },
    {
      "cell_type": "code",
      "source": [
        "# import necessary packages\n",
        "import  matplotlib.pyplot as plt\n",
        "import pandas as pd\n",
        "import numpy as np\n",
        "import seaborn as sns\n",
        "import re\n",
        "import string\n",
        "from sklearn.model_selection import train_test_split\n",
        "from gensim.test.utils import common_texts\n",
        "from gensim.models import Word2Vec\n",
        "from sklearn.metrics import accuracy_score, precision_score, recall_score, f1_score\n",
        "\n",
        "# mounted the drive\n",
        "from google.colab import drive\n",
        "drive.mount('/content/drive')"
      ],
      "metadata": {
        "colab": {
          "base_uri": "https://localhost:8080/"
        },
        "id": "GasP4q89ZTdB",
        "outputId": "c0b22bbb-f06d-408b-b2b3-f33a0f88a360"
      },
      "execution_count": 42,
      "outputs": [
        {
          "output_type": "stream",
          "name": "stdout",
          "text": [
            "Drive already mounted at /content/drive; to attempt to forcibly remount, call drive.mount(\"/content/drive\", force_remount=True).\n"
          ]
        }
      ]
    },
    {
      "cell_type": "markdown",
      "source": [
        "#**Data Preprocessing**"
      ],
      "metadata": {
        "id": "ba3PZ1ZsTuI0"
      }
    },
    {
      "cell_type": "code",
      "source": [
        "# read the csv file using pandas dataframe\n",
        "fake_news_data = pd.read_csv(\"/content/drive/My Drive/Colab Notebooks/csv/fake.csv\")\n",
        "true_news_data = pd.read_csv(\"/content/drive/My Drive/Colab Notebooks/csv/true.csv\")"
      ],
      "metadata": {
        "id": "q6XykTJIC-cR"
      },
      "execution_count": 43,
      "outputs": []
    },
    {
      "cell_type": "markdown",
      "source": [
        "**Q1.** View the imported csv file data using Pandas Dataframe."
      ],
      "metadata": {
        "id": "ZzHOTkU0Qg3z"
      }
    },
    {
      "cell_type": "code",
      "source": [
        "import pandas as pd\n",
        "\n",
        "# Load datasets\n",
        "fake_news_data = pd.read_csv(\"/content/drive/My Drive/Colab Notebooks/csv/fake.csv\")\n",
        "true_news_data = pd.read_csv(\"/content/drive/My Drive/Colab Notebooks/csv/true.csv\")\n",
        "\n",
        "# View first 5 rows\n",
        "print(\"Fake News Dataset:\")\n",
        "display(fake_news_data.head())\n",
        "\n",
        "print(\"True News Dataset:\")\n",
        "display(true_news_data.head())"
      ],
      "metadata": {
        "colab": {
          "base_uri": "https://localhost:8080/",
          "height": 430
        },
        "id": "7bNwIwjbZ4hw",
        "outputId": "af719fc6-3b3a-43fd-dff3-0e44da56f5ad"
      },
      "execution_count": 44,
      "outputs": [
        {
          "output_type": "stream",
          "name": "stdout",
          "text": [
            "Fake News Dataset:\n"
          ]
        },
        {
          "output_type": "display_data",
          "data": {
            "text/plain": [
              "                                               title  \\\n",
              "0   Donald Trump Sends Out Embarrassing New Year’...   \n",
              "1   Drunk Bragging Trump Staffer Started Russian ...   \n",
              "2   Sheriff David Clarke Becomes An Internet Joke...   \n",
              "3   Trump Is So Obsessed He Even Has Obama’s Name...   \n",
              "4   Pope Francis Just Called Out Donald Trump Dur...   \n",
              "\n",
              "                                                text subject  \\\n",
              "0  Donald Trump just couldn t wish all Americans ...    News   \n",
              "1  House Intelligence Committee Chairman Devin Nu...    News   \n",
              "2  On Friday, it was revealed that former Milwauk...    News   \n",
              "3  On Christmas day, Donald Trump announced that ...    News   \n",
              "4  Pope Francis used his annual Christmas Day mes...    News   \n",
              "\n",
              "                date  \n",
              "0  December 31, 2017  \n",
              "1  December 31, 2017  \n",
              "2  December 30, 2017  \n",
              "3  December 29, 2017  \n",
              "4  December 25, 2017  "
            ],
            "text/html": [
              "\n",
              "  <div id=\"df-baf3330f-be71-490d-8090-4b7840707785\" class=\"colab-df-container\">\n",
              "    <div>\n",
              "<style scoped>\n",
              "    .dataframe tbody tr th:only-of-type {\n",
              "        vertical-align: middle;\n",
              "    }\n",
              "\n",
              "    .dataframe tbody tr th {\n",
              "        vertical-align: top;\n",
              "    }\n",
              "\n",
              "    .dataframe thead th {\n",
              "        text-align: right;\n",
              "    }\n",
              "</style>\n",
              "<table border=\"1\" class=\"dataframe\">\n",
              "  <thead>\n",
              "    <tr style=\"text-align: right;\">\n",
              "      <th></th>\n",
              "      <th>title</th>\n",
              "      <th>text</th>\n",
              "      <th>subject</th>\n",
              "      <th>date</th>\n",
              "    </tr>\n",
              "  </thead>\n",
              "  <tbody>\n",
              "    <tr>\n",
              "      <th>0</th>\n",
              "      <td>Donald Trump Sends Out Embarrassing New Year’...</td>\n",
              "      <td>Donald Trump just couldn t wish all Americans ...</td>\n",
              "      <td>News</td>\n",
              "      <td>December 31, 2017</td>\n",
              "    </tr>\n",
              "    <tr>\n",
              "      <th>1</th>\n",
              "      <td>Drunk Bragging Trump Staffer Started Russian ...</td>\n",
              "      <td>House Intelligence Committee Chairman Devin Nu...</td>\n",
              "      <td>News</td>\n",
              "      <td>December 31, 2017</td>\n",
              "    </tr>\n",
              "    <tr>\n",
              "      <th>2</th>\n",
              "      <td>Sheriff David Clarke Becomes An Internet Joke...</td>\n",
              "      <td>On Friday, it was revealed that former Milwauk...</td>\n",
              "      <td>News</td>\n",
              "      <td>December 30, 2017</td>\n",
              "    </tr>\n",
              "    <tr>\n",
              "      <th>3</th>\n",
              "      <td>Trump Is So Obsessed He Even Has Obama’s Name...</td>\n",
              "      <td>On Christmas day, Donald Trump announced that ...</td>\n",
              "      <td>News</td>\n",
              "      <td>December 29, 2017</td>\n",
              "    </tr>\n",
              "    <tr>\n",
              "      <th>4</th>\n",
              "      <td>Pope Francis Just Called Out Donald Trump Dur...</td>\n",
              "      <td>Pope Francis used his annual Christmas Day mes...</td>\n",
              "      <td>News</td>\n",
              "      <td>December 25, 2017</td>\n",
              "    </tr>\n",
              "  </tbody>\n",
              "</table>\n",
              "</div>\n",
              "    <div class=\"colab-df-buttons\">\n",
              "\n",
              "  <div class=\"colab-df-container\">\n",
              "    <button class=\"colab-df-convert\" onclick=\"convertToInteractive('df-baf3330f-be71-490d-8090-4b7840707785')\"\n",
              "            title=\"Convert this dataframe to an interactive table.\"\n",
              "            style=\"display:none;\">\n",
              "\n",
              "  <svg xmlns=\"http://www.w3.org/2000/svg\" height=\"24px\" viewBox=\"0 -960 960 960\">\n",
              "    <path d=\"M120-120v-720h720v720H120Zm60-500h600v-160H180v160Zm220 220h160v-160H400v160Zm0 220h160v-160H400v160ZM180-400h160v-160H180v160Zm440 0h160v-160H620v160ZM180-180h160v-160H180v160Zm440 0h160v-160H620v160Z\"/>\n",
              "  </svg>\n",
              "    </button>\n",
              "\n",
              "  <style>\n",
              "    .colab-df-container {\n",
              "      display:flex;\n",
              "      gap: 12px;\n",
              "    }\n",
              "\n",
              "    .colab-df-convert {\n",
              "      background-color: #E8F0FE;\n",
              "      border: none;\n",
              "      border-radius: 50%;\n",
              "      cursor: pointer;\n",
              "      display: none;\n",
              "      fill: #1967D2;\n",
              "      height: 32px;\n",
              "      padding: 0 0 0 0;\n",
              "      width: 32px;\n",
              "    }\n",
              "\n",
              "    .colab-df-convert:hover {\n",
              "      background-color: #E2EBFA;\n",
              "      box-shadow: 0px 1px 2px rgba(60, 64, 67, 0.3), 0px 1px 3px 1px rgba(60, 64, 67, 0.15);\n",
              "      fill: #174EA6;\n",
              "    }\n",
              "\n",
              "    .colab-df-buttons div {\n",
              "      margin-bottom: 4px;\n",
              "    }\n",
              "\n",
              "    [theme=dark] .colab-df-convert {\n",
              "      background-color: #3B4455;\n",
              "      fill: #D2E3FC;\n",
              "    }\n",
              "\n",
              "    [theme=dark] .colab-df-convert:hover {\n",
              "      background-color: #434B5C;\n",
              "      box-shadow: 0px 1px 3px 1px rgba(0, 0, 0, 0.15);\n",
              "      filter: drop-shadow(0px 1px 2px rgba(0, 0, 0, 0.3));\n",
              "      fill: #FFFFFF;\n",
              "    }\n",
              "  </style>\n",
              "\n",
              "    <script>\n",
              "      const buttonEl =\n",
              "        document.querySelector('#df-baf3330f-be71-490d-8090-4b7840707785 button.colab-df-convert');\n",
              "      buttonEl.style.display =\n",
              "        google.colab.kernel.accessAllowed ? 'block' : 'none';\n",
              "\n",
              "      async function convertToInteractive(key) {\n",
              "        const element = document.querySelector('#df-baf3330f-be71-490d-8090-4b7840707785');\n",
              "        const dataTable =\n",
              "          await google.colab.kernel.invokeFunction('convertToInteractive',\n",
              "                                                    [key], {});\n",
              "        if (!dataTable) return;\n",
              "\n",
              "        const docLinkHtml = 'Like what you see? Visit the ' +\n",
              "          '<a target=\"_blank\" href=https://colab.research.google.com/notebooks/data_table.ipynb>data table notebook</a>'\n",
              "          + ' to learn more about interactive tables.';\n",
              "        element.innerHTML = '';\n",
              "        dataTable['output_type'] = 'display_data';\n",
              "        await google.colab.output.renderOutput(dataTable, element);\n",
              "        const docLink = document.createElement('div');\n",
              "        docLink.innerHTML = docLinkHtml;\n",
              "        element.appendChild(docLink);\n",
              "      }\n",
              "    </script>\n",
              "  </div>\n",
              "\n",
              "\n",
              "    <div id=\"df-8db5134a-4772-4766-a046-1f73642a71aa\">\n",
              "      <button class=\"colab-df-quickchart\" onclick=\"quickchart('df-8db5134a-4772-4766-a046-1f73642a71aa')\"\n",
              "                title=\"Suggest charts\"\n",
              "                style=\"display:none;\">\n",
              "\n",
              "<svg xmlns=\"http://www.w3.org/2000/svg\" height=\"24px\"viewBox=\"0 0 24 24\"\n",
              "     width=\"24px\">\n",
              "    <g>\n",
              "        <path d=\"M19 3H5c-1.1 0-2 .9-2 2v14c0 1.1.9 2 2 2h14c1.1 0 2-.9 2-2V5c0-1.1-.9-2-2-2zM9 17H7v-7h2v7zm4 0h-2V7h2v10zm4 0h-2v-4h2v4z\"/>\n",
              "    </g>\n",
              "</svg>\n",
              "      </button>\n",
              "\n",
              "<style>\n",
              "  .colab-df-quickchart {\n",
              "      --bg-color: #E8F0FE;\n",
              "      --fill-color: #1967D2;\n",
              "      --hover-bg-color: #E2EBFA;\n",
              "      --hover-fill-color: #174EA6;\n",
              "      --disabled-fill-color: #AAA;\n",
              "      --disabled-bg-color: #DDD;\n",
              "  }\n",
              "\n",
              "  [theme=dark] .colab-df-quickchart {\n",
              "      --bg-color: #3B4455;\n",
              "      --fill-color: #D2E3FC;\n",
              "      --hover-bg-color: #434B5C;\n",
              "      --hover-fill-color: #FFFFFF;\n",
              "      --disabled-bg-color: #3B4455;\n",
              "      --disabled-fill-color: #666;\n",
              "  }\n",
              "\n",
              "  .colab-df-quickchart {\n",
              "    background-color: var(--bg-color);\n",
              "    border: none;\n",
              "    border-radius: 50%;\n",
              "    cursor: pointer;\n",
              "    display: none;\n",
              "    fill: var(--fill-color);\n",
              "    height: 32px;\n",
              "    padding: 0;\n",
              "    width: 32px;\n",
              "  }\n",
              "\n",
              "  .colab-df-quickchart:hover {\n",
              "    background-color: var(--hover-bg-color);\n",
              "    box-shadow: 0 1px 2px rgba(60, 64, 67, 0.3), 0 1px 3px 1px rgba(60, 64, 67, 0.15);\n",
              "    fill: var(--button-hover-fill-color);\n",
              "  }\n",
              "\n",
              "  .colab-df-quickchart-complete:disabled,\n",
              "  .colab-df-quickchart-complete:disabled:hover {\n",
              "    background-color: var(--disabled-bg-color);\n",
              "    fill: var(--disabled-fill-color);\n",
              "    box-shadow: none;\n",
              "  }\n",
              "\n",
              "  .colab-df-spinner {\n",
              "    border: 2px solid var(--fill-color);\n",
              "    border-color: transparent;\n",
              "    border-bottom-color: var(--fill-color);\n",
              "    animation:\n",
              "      spin 1s steps(1) infinite;\n",
              "  }\n",
              "\n",
              "  @keyframes spin {\n",
              "    0% {\n",
              "      border-color: transparent;\n",
              "      border-bottom-color: var(--fill-color);\n",
              "      border-left-color: var(--fill-color);\n",
              "    }\n",
              "    20% {\n",
              "      border-color: transparent;\n",
              "      border-left-color: var(--fill-color);\n",
              "      border-top-color: var(--fill-color);\n",
              "    }\n",
              "    30% {\n",
              "      border-color: transparent;\n",
              "      border-left-color: var(--fill-color);\n",
              "      border-top-color: var(--fill-color);\n",
              "      border-right-color: var(--fill-color);\n",
              "    }\n",
              "    40% {\n",
              "      border-color: transparent;\n",
              "      border-right-color: var(--fill-color);\n",
              "      border-top-color: var(--fill-color);\n",
              "    }\n",
              "    60% {\n",
              "      border-color: transparent;\n",
              "      border-right-color: var(--fill-color);\n",
              "    }\n",
              "    80% {\n",
              "      border-color: transparent;\n",
              "      border-right-color: var(--fill-color);\n",
              "      border-bottom-color: var(--fill-color);\n",
              "    }\n",
              "    90% {\n",
              "      border-color: transparent;\n",
              "      border-bottom-color: var(--fill-color);\n",
              "    }\n",
              "  }\n",
              "</style>\n",
              "\n",
              "      <script>\n",
              "        async function quickchart(key) {\n",
              "          const quickchartButtonEl =\n",
              "            document.querySelector('#' + key + ' button');\n",
              "          quickchartButtonEl.disabled = true;  // To prevent multiple clicks.\n",
              "          quickchartButtonEl.classList.add('colab-df-spinner');\n",
              "          try {\n",
              "            const charts = await google.colab.kernel.invokeFunction(\n",
              "                'suggestCharts', [key], {});\n",
              "          } catch (error) {\n",
              "            console.error('Error during call to suggestCharts:', error);\n",
              "          }\n",
              "          quickchartButtonEl.classList.remove('colab-df-spinner');\n",
              "          quickchartButtonEl.classList.add('colab-df-quickchart-complete');\n",
              "        }\n",
              "        (() => {\n",
              "          let quickchartButtonEl =\n",
              "            document.querySelector('#df-8db5134a-4772-4766-a046-1f73642a71aa button');\n",
              "          quickchartButtonEl.style.display =\n",
              "            google.colab.kernel.accessAllowed ? 'block' : 'none';\n",
              "        })();\n",
              "      </script>\n",
              "    </div>\n",
              "\n",
              "    </div>\n",
              "  </div>\n"
            ],
            "application/vnd.google.colaboratory.intrinsic+json": {
              "type": "dataframe",
              "summary": "{\n  \"name\": \"display(true_news_data\",\n  \"rows\": 5,\n  \"fields\": [\n    {\n      \"column\": \"title\",\n      \"properties\": {\n        \"dtype\": \"string\",\n        \"num_unique_values\": 5,\n        \"samples\": [\n          \" Drunk Bragging Trump Staffer Started Russian Collusion Investigation\",\n          \" Pope Francis Just Called Out Donald Trump During His Christmas Speech\",\n          \" Sheriff David Clarke Becomes An Internet Joke For Threatening To Poke People \\u2018In The Eye\\u2019\"\n        ],\n        \"semantic_type\": \"\",\n        \"description\": \"\"\n      }\n    },\n    {\n      \"column\": \"text\",\n      \"properties\": {\n        \"dtype\": \"string\",\n        \"num_unique_values\": 5,\n        \"samples\": [\n          \"House Intelligence Committee Chairman Devin Nunes is going to have a bad day. He s been under the assumption, like many of us, that the Christopher Steele-dossier was what prompted the Russia investigation so he s been lashing out at the Department of Justice and the FBI in order to protect Trump. As it happens, the dossier is not what started the investigation, according to documents obtained by the New York Times.Former Trump campaign adviser George Papadopoulos was drunk in a wine bar when he revealed knowledge of Russian opposition research on Hillary Clinton.On top of that, Papadopoulos wasn t just a covfefe boy for Trump, as his administration has alleged. He had a much larger role, but none so damning as being a drunken fool in a wine bar. Coffee boys  don t help to arrange a New York meeting between Trump and President Abdel Fattah el-Sisi of Egypt two months before the election. It was known before that the former aide set up meetings with world leaders for Trump, but team Trump ran with him being merely a coffee boy.In May 2016, Papadopoulos revealed to Australian diplomat Alexander Downer that Russian officials were shopping around possible dirt on then-Democratic presidential nominee Hillary Clinton. Exactly how much Mr. Papadopoulos said that night at the Kensington Wine Rooms with the Australian, Alexander Downer, is unclear,  the report states.  But two months later, when leaked Democratic emails began appearing online, Australian officials passed the information about Mr. Papadopoulos to their American counterparts, according to four current and former American and foreign officials with direct knowledge of the Australians  role. Papadopoulos pleaded guilty to lying to the F.B.I. and is now a cooperating witness with Special Counsel Robert Mueller s team.This isn t a presidency. It s a badly scripted reality TV show.Photo by Win McNamee/Getty Images.\",\n          \"Pope Francis used his annual Christmas Day message to rebuke Donald Trump without even mentioning his name. The Pope delivered his message just days after members of the United Nations condemned Trump s move to recognize Jerusalem as the capital of Israel. The Pontiff prayed on Monday for the  peaceful coexistence of two states within mutually agreed and internationally recognized borders. We see Jesus in the children of the Middle East who continue to suffer because of growing tensions between Israelis and Palestinians,  Francis said.  On this festive day, let us ask the Lord for peace for Jerusalem and for all the Holy Land. Let us pray that the will to resume dialogue may prevail between the parties and that a negotiated solution can finally be reached. The Pope went on to plead for acceptance of refugees who have been forced from their homes, and that is an issue Trump continues to fight against. Francis used Jesus for which there was  no place in the inn  as an analogy. Today, as the winds of war are blowing in our world and an outdated model of development continues to produce human, societal and environmental decline, Christmas invites us to focus on the sign of the Child and to recognize him in the faces of little children, especially those for whom, like Jesus,  there is no place in the inn,  he said. Jesus knows well the pain of not being welcomed and how hard it is not to have a place to lay one s head,  he added.  May our hearts not be closed as they were in the homes of Bethlehem. The Pope said that Mary and Joseph were immigrants who struggled to find a safe place to stay in Bethlehem. They had to leave their people, their home, and their land,  Francis said.  This was no comfortable or easy journey for a young couple about to have a child.   At heart, they were full of hope and expectation because of the child about to be born; yet their steps were weighed down by the uncertainties and dangers that attend those who have to leave their home behind. So many other footsteps are hidden in the footsteps of Joseph and Mary,  Francis said Sunday. We see the tracks of entire families forced to set out in our own day. We see the tracks of millions of persons who do not choose to go away, but driven from their land, leave behind their dear ones. Amen to that.Photo by Christopher Furlong/Getty Images.\",\n          \"On Friday, it was revealed that former Milwaukee Sheriff David Clarke, who was being considered for Homeland Security Secretary in Donald Trump s administration, has an email scandal of his own.In January, there was a brief run-in on a plane between Clarke and fellow passenger Dan Black, who he later had detained by the police for no reason whatsoever, except that maybe his feelings were hurt. Clarke messaged the police to stop Black after he deplaned, and now, a search warrant has been executed by the FBI to see the exchanges.Clarke is calling it fake news even though copies of the search warrant are on the Internet. I am UNINTIMIDATED by lib media attempts to smear and discredit me with their FAKE NEWS reports designed to silence me,  the former sheriff tweeted.  I will continue to poke them in the eye with a sharp stick and bitch slap these scum bags til they get it. I have been attacked by better people than them #MAGA I am UNINTIMIDATED by lib media attempts to smear and discredit me with their FAKE NEWS reports designed to silence me. I will continue to poke them in the eye with a sharp stick and bitch slap these scum bags til they get it. I have been attacked by better people than them #MAGA pic.twitter.com/XtZW5PdU2b  David A. Clarke, Jr. (@SheriffClarke) December 30, 2017He didn t stop there.BREAKING NEWS! When LYING LIB MEDIA makes up FAKE NEWS to smear me, the ANTIDOTE is go right at them. Punch them in the nose & MAKE THEM TASTE THEIR OWN BLOOD. Nothing gets a bully like LYING LIB MEDIA S attention better than to give them a taste of their own blood #neverbackdown pic.twitter.com/T2NY2psHCR  David A. Clarke, Jr. (@SheriffClarke) December 30, 2017The internet called him out.This is your local newspaper and that search warrant isn t fake, and just because the chose not to file charges at the time doesn t mean they won t! Especially if you continue to lie. Months after decision not to charge Clarke, email search warrant filed https://t.co/zcbyc4Wp5b  KeithLeBlanc (@KeithLeBlanc63) December 30, 2017I just hope the rest of the Village People aren t implicated.  Kirk Ketchum (@kirkketchum) December 30, 2017Slaw, baked potatoes, or French fries? pic.twitter.com/fWfXsZupxy  ALT- Immigration   (@ALT_uscis) December 30, 2017pic.twitter.com/ymsOBLjfxU  Pendulum Swinger (@PendulumSwngr) December 30, 2017you called your police friends to stand up for you when someone made fun of your hat  Chris Jackson (@ChrisCJackson) December 30, 2017Is it me, with this masterful pshop of your hat, which I seem to never tire of. I think it s the steely resolve in your one visible eye pic.twitter.com/dWr5k8ZEZV  Chris Mohney (@chrismohney) December 30, 2017Are you indicating with your fingers how many people died in your jail? I think you re a few fingers short, dipshit  Ike Barinholtz (@ikebarinholtz) December 30, 2017ROFL. Internet tough guy with fake flair. pic.twitter.com/ulCFddhkdy  KellMeCrazy (@Kel_MoonFace) December 30, 2017You re so edgy, buddy.  Mrs. SMH (@MRSSMH2) December 30, 2017Is his break over at Applebees?  Aaron (@feltrrr2) December 30, 2017Are you trying to earn your  still relevant  badge?  CircusRebel (@CircusDrew) December 30, 2017make sure to hydrate, drink lots of water. It s rumored that prisoners can be denied water by prison officials.  Robert Klinc (@RobertKlinc1) December 30, 2017Terrill Thomas, the 38-year-old black man who died of thirst in Clarke s Milwaukee County Jail cell this April, was a victim of homicide. We just thought we should point that out. It can t be repeated enough.Photo by Spencer Platt/Getty Images.\"\n        ],\n        \"semantic_type\": \"\",\n        \"description\": \"\"\n      }\n    },\n    {\n      \"column\": \"subject\",\n      \"properties\": {\n        \"dtype\": \"category\",\n        \"num_unique_values\": 1,\n        \"samples\": [\n          \"News\"\n        ],\n        \"semantic_type\": \"\",\n        \"description\": \"\"\n      }\n    },\n    {\n      \"column\": \"date\",\n      \"properties\": {\n        \"dtype\": \"object\",\n        \"num_unique_values\": 4,\n        \"samples\": [\n          \"December 30, 2017\"\n        ],\n        \"semantic_type\": \"\",\n        \"description\": \"\"\n      }\n    }\n  ]\n}"
            }
          },
          "metadata": {}
        },
        {
          "output_type": "stream",
          "name": "stdout",
          "text": [
            "True News Dataset:\n"
          ]
        },
        {
          "output_type": "display_data",
          "data": {
            "text/plain": [
              "                                               title  \\\n",
              "0  As U.S. budget fight looms, Republicans flip t...   \n",
              "1  U.S. military to accept transgender recruits o...   \n",
              "2  Senior U.S. Republican senator: 'Let Mr. Muell...   \n",
              "3  FBI Russia probe helped by Australian diplomat...   \n",
              "4  Trump wants Postal Service to charge 'much mor...   \n",
              "\n",
              "                                                text       subject  \\\n",
              "0  WASHINGTON (Reuters) - The head of a conservat...  politicsNews   \n",
              "1  WASHINGTON (Reuters) - Transgender people will...  politicsNews   \n",
              "2  WASHINGTON (Reuters) - The special counsel inv...  politicsNews   \n",
              "3  WASHINGTON (Reuters) - Trump campaign adviser ...  politicsNews   \n",
              "4  SEATTLE/WASHINGTON (Reuters) - President Donal...  politicsNews   \n",
              "\n",
              "                 date  \n",
              "0  December 31, 2017   \n",
              "1  December 29, 2017   \n",
              "2  December 31, 2017   \n",
              "3  December 30, 2017   \n",
              "4  December 29, 2017   "
            ],
            "text/html": [
              "\n",
              "  <div id=\"df-d91eb790-a76e-4def-9571-fe0b790dca95\" class=\"colab-df-container\">\n",
              "    <div>\n",
              "<style scoped>\n",
              "    .dataframe tbody tr th:only-of-type {\n",
              "        vertical-align: middle;\n",
              "    }\n",
              "\n",
              "    .dataframe tbody tr th {\n",
              "        vertical-align: top;\n",
              "    }\n",
              "\n",
              "    .dataframe thead th {\n",
              "        text-align: right;\n",
              "    }\n",
              "</style>\n",
              "<table border=\"1\" class=\"dataframe\">\n",
              "  <thead>\n",
              "    <tr style=\"text-align: right;\">\n",
              "      <th></th>\n",
              "      <th>title</th>\n",
              "      <th>text</th>\n",
              "      <th>subject</th>\n",
              "      <th>date</th>\n",
              "    </tr>\n",
              "  </thead>\n",
              "  <tbody>\n",
              "    <tr>\n",
              "      <th>0</th>\n",
              "      <td>As U.S. budget fight looms, Republicans flip t...</td>\n",
              "      <td>WASHINGTON (Reuters) - The head of a conservat...</td>\n",
              "      <td>politicsNews</td>\n",
              "      <td>December 31, 2017</td>\n",
              "    </tr>\n",
              "    <tr>\n",
              "      <th>1</th>\n",
              "      <td>U.S. military to accept transgender recruits o...</td>\n",
              "      <td>WASHINGTON (Reuters) - Transgender people will...</td>\n",
              "      <td>politicsNews</td>\n",
              "      <td>December 29, 2017</td>\n",
              "    </tr>\n",
              "    <tr>\n",
              "      <th>2</th>\n",
              "      <td>Senior U.S. Republican senator: 'Let Mr. Muell...</td>\n",
              "      <td>WASHINGTON (Reuters) - The special counsel inv...</td>\n",
              "      <td>politicsNews</td>\n",
              "      <td>December 31, 2017</td>\n",
              "    </tr>\n",
              "    <tr>\n",
              "      <th>3</th>\n",
              "      <td>FBI Russia probe helped by Australian diplomat...</td>\n",
              "      <td>WASHINGTON (Reuters) - Trump campaign adviser ...</td>\n",
              "      <td>politicsNews</td>\n",
              "      <td>December 30, 2017</td>\n",
              "    </tr>\n",
              "    <tr>\n",
              "      <th>4</th>\n",
              "      <td>Trump wants Postal Service to charge 'much mor...</td>\n",
              "      <td>SEATTLE/WASHINGTON (Reuters) - President Donal...</td>\n",
              "      <td>politicsNews</td>\n",
              "      <td>December 29, 2017</td>\n",
              "    </tr>\n",
              "  </tbody>\n",
              "</table>\n",
              "</div>\n",
              "    <div class=\"colab-df-buttons\">\n",
              "\n",
              "  <div class=\"colab-df-container\">\n",
              "    <button class=\"colab-df-convert\" onclick=\"convertToInteractive('df-d91eb790-a76e-4def-9571-fe0b790dca95')\"\n",
              "            title=\"Convert this dataframe to an interactive table.\"\n",
              "            style=\"display:none;\">\n",
              "\n",
              "  <svg xmlns=\"http://www.w3.org/2000/svg\" height=\"24px\" viewBox=\"0 -960 960 960\">\n",
              "    <path d=\"M120-120v-720h720v720H120Zm60-500h600v-160H180v160Zm220 220h160v-160H400v160Zm0 220h160v-160H400v160ZM180-400h160v-160H180v160Zm440 0h160v-160H620v160ZM180-180h160v-160H180v160Zm440 0h160v-160H620v160Z\"/>\n",
              "  </svg>\n",
              "    </button>\n",
              "\n",
              "  <style>\n",
              "    .colab-df-container {\n",
              "      display:flex;\n",
              "      gap: 12px;\n",
              "    }\n",
              "\n",
              "    .colab-df-convert {\n",
              "      background-color: #E8F0FE;\n",
              "      border: none;\n",
              "      border-radius: 50%;\n",
              "      cursor: pointer;\n",
              "      display: none;\n",
              "      fill: #1967D2;\n",
              "      height: 32px;\n",
              "      padding: 0 0 0 0;\n",
              "      width: 32px;\n",
              "    }\n",
              "\n",
              "    .colab-df-convert:hover {\n",
              "      background-color: #E2EBFA;\n",
              "      box-shadow: 0px 1px 2px rgba(60, 64, 67, 0.3), 0px 1px 3px 1px rgba(60, 64, 67, 0.15);\n",
              "      fill: #174EA6;\n",
              "    }\n",
              "\n",
              "    .colab-df-buttons div {\n",
              "      margin-bottom: 4px;\n",
              "    }\n",
              "\n",
              "    [theme=dark] .colab-df-convert {\n",
              "      background-color: #3B4455;\n",
              "      fill: #D2E3FC;\n",
              "    }\n",
              "\n",
              "    [theme=dark] .colab-df-convert:hover {\n",
              "      background-color: #434B5C;\n",
              "      box-shadow: 0px 1px 3px 1px rgba(0, 0, 0, 0.15);\n",
              "      filter: drop-shadow(0px 1px 2px rgba(0, 0, 0, 0.3));\n",
              "      fill: #FFFFFF;\n",
              "    }\n",
              "  </style>\n",
              "\n",
              "    <script>\n",
              "      const buttonEl =\n",
              "        document.querySelector('#df-d91eb790-a76e-4def-9571-fe0b790dca95 button.colab-df-convert');\n",
              "      buttonEl.style.display =\n",
              "        google.colab.kernel.accessAllowed ? 'block' : 'none';\n",
              "\n",
              "      async function convertToInteractive(key) {\n",
              "        const element = document.querySelector('#df-d91eb790-a76e-4def-9571-fe0b790dca95');\n",
              "        const dataTable =\n",
              "          await google.colab.kernel.invokeFunction('convertToInteractive',\n",
              "                                                    [key], {});\n",
              "        if (!dataTable) return;\n",
              "\n",
              "        const docLinkHtml = 'Like what you see? Visit the ' +\n",
              "          '<a target=\"_blank\" href=https://colab.research.google.com/notebooks/data_table.ipynb>data table notebook</a>'\n",
              "          + ' to learn more about interactive tables.';\n",
              "        element.innerHTML = '';\n",
              "        dataTable['output_type'] = 'display_data';\n",
              "        await google.colab.output.renderOutput(dataTable, element);\n",
              "        const docLink = document.createElement('div');\n",
              "        docLink.innerHTML = docLinkHtml;\n",
              "        element.appendChild(docLink);\n",
              "      }\n",
              "    </script>\n",
              "  </div>\n",
              "\n",
              "\n",
              "    <div id=\"df-039d32e7-275f-4c8e-8d00-73a6fbf0e1c9\">\n",
              "      <button class=\"colab-df-quickchart\" onclick=\"quickchart('df-039d32e7-275f-4c8e-8d00-73a6fbf0e1c9')\"\n",
              "                title=\"Suggest charts\"\n",
              "                style=\"display:none;\">\n",
              "\n",
              "<svg xmlns=\"http://www.w3.org/2000/svg\" height=\"24px\"viewBox=\"0 0 24 24\"\n",
              "     width=\"24px\">\n",
              "    <g>\n",
              "        <path d=\"M19 3H5c-1.1 0-2 .9-2 2v14c0 1.1.9 2 2 2h14c1.1 0 2-.9 2-2V5c0-1.1-.9-2-2-2zM9 17H7v-7h2v7zm4 0h-2V7h2v10zm4 0h-2v-4h2v4z\"/>\n",
              "    </g>\n",
              "</svg>\n",
              "      </button>\n",
              "\n",
              "<style>\n",
              "  .colab-df-quickchart {\n",
              "      --bg-color: #E8F0FE;\n",
              "      --fill-color: #1967D2;\n",
              "      --hover-bg-color: #E2EBFA;\n",
              "      --hover-fill-color: #174EA6;\n",
              "      --disabled-fill-color: #AAA;\n",
              "      --disabled-bg-color: #DDD;\n",
              "  }\n",
              "\n",
              "  [theme=dark] .colab-df-quickchart {\n",
              "      --bg-color: #3B4455;\n",
              "      --fill-color: #D2E3FC;\n",
              "      --hover-bg-color: #434B5C;\n",
              "      --hover-fill-color: #FFFFFF;\n",
              "      --disabled-bg-color: #3B4455;\n",
              "      --disabled-fill-color: #666;\n",
              "  }\n",
              "\n",
              "  .colab-df-quickchart {\n",
              "    background-color: var(--bg-color);\n",
              "    border: none;\n",
              "    border-radius: 50%;\n",
              "    cursor: pointer;\n",
              "    display: none;\n",
              "    fill: var(--fill-color);\n",
              "    height: 32px;\n",
              "    padding: 0;\n",
              "    width: 32px;\n",
              "  }\n",
              "\n",
              "  .colab-df-quickchart:hover {\n",
              "    background-color: var(--hover-bg-color);\n",
              "    box-shadow: 0 1px 2px rgba(60, 64, 67, 0.3), 0 1px 3px 1px rgba(60, 64, 67, 0.15);\n",
              "    fill: var(--button-hover-fill-color);\n",
              "  }\n",
              "\n",
              "  .colab-df-quickchart-complete:disabled,\n",
              "  .colab-df-quickchart-complete:disabled:hover {\n",
              "    background-color: var(--disabled-bg-color);\n",
              "    fill: var(--disabled-fill-color);\n",
              "    box-shadow: none;\n",
              "  }\n",
              "\n",
              "  .colab-df-spinner {\n",
              "    border: 2px solid var(--fill-color);\n",
              "    border-color: transparent;\n",
              "    border-bottom-color: var(--fill-color);\n",
              "    animation:\n",
              "      spin 1s steps(1) infinite;\n",
              "  }\n",
              "\n",
              "  @keyframes spin {\n",
              "    0% {\n",
              "      border-color: transparent;\n",
              "      border-bottom-color: var(--fill-color);\n",
              "      border-left-color: var(--fill-color);\n",
              "    }\n",
              "    20% {\n",
              "      border-color: transparent;\n",
              "      border-left-color: var(--fill-color);\n",
              "      border-top-color: var(--fill-color);\n",
              "    }\n",
              "    30% {\n",
              "      border-color: transparent;\n",
              "      border-left-color: var(--fill-color);\n",
              "      border-top-color: var(--fill-color);\n",
              "      border-right-color: var(--fill-color);\n",
              "    }\n",
              "    40% {\n",
              "      border-color: transparent;\n",
              "      border-right-color: var(--fill-color);\n",
              "      border-top-color: var(--fill-color);\n",
              "    }\n",
              "    60% {\n",
              "      border-color: transparent;\n",
              "      border-right-color: var(--fill-color);\n",
              "    }\n",
              "    80% {\n",
              "      border-color: transparent;\n",
              "      border-right-color: var(--fill-color);\n",
              "      border-bottom-color: var(--fill-color);\n",
              "    }\n",
              "    90% {\n",
              "      border-color: transparent;\n",
              "      border-bottom-color: var(--fill-color);\n",
              "    }\n",
              "  }\n",
              "</style>\n",
              "\n",
              "      <script>\n",
              "        async function quickchart(key) {\n",
              "          const quickchartButtonEl =\n",
              "            document.querySelector('#' + key + ' button');\n",
              "          quickchartButtonEl.disabled = true;  // To prevent multiple clicks.\n",
              "          quickchartButtonEl.classList.add('colab-df-spinner');\n",
              "          try {\n",
              "            const charts = await google.colab.kernel.invokeFunction(\n",
              "                'suggestCharts', [key], {});\n",
              "          } catch (error) {\n",
              "            console.error('Error during call to suggestCharts:', error);\n",
              "          }\n",
              "          quickchartButtonEl.classList.remove('colab-df-spinner');\n",
              "          quickchartButtonEl.classList.add('colab-df-quickchart-complete');\n",
              "        }\n",
              "        (() => {\n",
              "          let quickchartButtonEl =\n",
              "            document.querySelector('#df-039d32e7-275f-4c8e-8d00-73a6fbf0e1c9 button');\n",
              "          quickchartButtonEl.style.display =\n",
              "            google.colab.kernel.accessAllowed ? 'block' : 'none';\n",
              "        })();\n",
              "      </script>\n",
              "    </div>\n",
              "\n",
              "    </div>\n",
              "  </div>\n"
            ],
            "application/vnd.google.colaboratory.intrinsic+json": {
              "type": "dataframe",
              "summary": "{\n  \"name\": \"display(true_news_data\",\n  \"rows\": 5,\n  \"fields\": [\n    {\n      \"column\": \"title\",\n      \"properties\": {\n        \"dtype\": \"string\",\n        \"num_unique_values\": 5,\n        \"samples\": [\n          \"U.S. military to accept transgender recruits on Monday: Pentagon\",\n          \"Trump wants Postal Service to charge 'much more' for Amazon shipments\",\n          \"Senior U.S. Republican senator: 'Let Mr. Mueller do his job'\"\n        ],\n        \"semantic_type\": \"\",\n        \"description\": \"\"\n      }\n    },\n    {\n      \"column\": \"text\",\n      \"properties\": {\n        \"dtype\": \"string\",\n        \"num_unique_values\": 5,\n        \"samples\": [\n          \"WASHINGTON (Reuters) - Transgender people will be allowed for the first time to enlist in the U.S. military starting on Monday as ordered by federal courts, the Pentagon said on Friday, after President Donald Trump\\u2019s administration decided not to appeal rulings that blocked his transgender ban. Two federal appeals courts, one in Washington and one in Virginia, last week rejected the administration\\u2019s request to put on hold orders by lower court judges requiring the military to begin accepting transgender recruits on Jan. 1. A Justice Department official said the administration will not challenge those rulings. \\u201cThe Department of Defense has announced that it will be releasing an independent study of these issues in the coming weeks. So rather than litigate this interim appeal before that occurs, the administration has decided to wait for DOD\\u2019s study and will continue to defend the president\\u2019s lawful authority in District Court in the meantime,\\u201d the official said, speaking on condition of anonymity. In September, the Pentagon said it had created a panel of senior officials to study how to implement a directive by Trump to prohibit transgender individuals from serving. The Defense Department has until Feb. 21 to submit a plan to Trump. Lawyers representing currently-serving transgender service members and aspiring recruits said they had expected the administration to appeal the rulings to the conservative-majority Supreme Court, but were hoping that would not happen. Pentagon spokeswoman Heather Babb said in a statement: \\u201cAs mandated by court order, the Department of Defense is prepared to begin accessing transgender applicants for military service Jan. 1. All applicants must meet all accession standards.\\u201d Jennifer Levi, a lawyer with gay, lesbian and transgender advocacy group GLAD, called the decision not to appeal \\u201cgreat news.\\u201d \\u201cI\\u2019m hoping it means the government has come to see that there is no way to justify a ban and that it\\u2019s not good for the military or our country,\\u201d Levi said. Both GLAD and the American Civil Liberties Union represent plaintiffs in the lawsuits filed against the administration. In a move that appealed to his hard-line conservative supporters, Trump announced in July that he would prohibit transgender people from serving in the military, reversing Democratic President Barack Obama\\u2019s policy of accepting them. Trump said on Twitter at the time that the military \\u201ccannot be burdened with the tremendous medical costs and disruption that transgender in the military would entail.\\u201d Four federal judges - in Baltimore, Washington, D.C., Seattle and Riverside, California - have issued rulings blocking Trump\\u2019s ban while legal challenges to the Republican president\\u2019s policy proceed. The judges said the ban would likely violate the right under the U.S. Constitution to equal protection under the law. The Pentagon on Dec. 8 issued guidelines to recruitment personnel in order to enlist transgender applicants by Jan. 1. The memo outlined medical requirements and specified how the applicants\\u2019 sex would be identified and even which undergarments they would wear. The Trump administration previously said in legal papers that the armed forces were not prepared to train thousands of personnel on the medical standards needed to process transgender applicants and might have to accept \\u201csome individuals who are not medically fit for service.\\u201d The Obama administration had set a deadline of July 1, 2017, to begin accepting transgender recruits. But Trump\\u2019s defense secretary, James Mattis, postponed that date to Jan. 1, 2018, which the president\\u2019s ban then put off indefinitely. Trump has taken other steps aimed at rolling back transgender rights. In October, his administration said a federal law banning gender-based workplace discrimination does not protect transgender employees, reversing another Obama-era position. In February, Trump rescinded guidance issued by the Obama administration saying that public schools should allow transgender students to use the restroom that corresponds to their gender identity. \",\n          \"SEATTLE/WASHINGTON (Reuters) - President Donald Trump called on the U.S. Postal Service on Friday to charge \\u201cmuch more\\u201d to ship packages for Amazon (AMZN.O), picking another fight with an online retail giant he has criticized in the past.     \\u201cWhy is the United States Post Office, which is losing many billions of dollars a year, while charging Amazon and others so little to deliver their packages, making Amazon richer and the Post Office dumber and poorer? Should be charging MUCH MORE!\\u201d Trump wrote on Twitter.  The president\\u2019s tweet drew fresh attention to the fragile finances of the Postal Service at a time when tens of millions of parcels have just been shipped all over the country for the holiday season.  The U.S. Postal Service, which runs at a big loss, is an independent agency within the federal government and does not receive tax dollars for operating expenses, according to its website.  Package delivery has become an increasingly important part of its business as the Internet has led to a sharp decline in the amount of first-class letters. The president does not determine postal rates. They are set by the Postal Regulatory Commission, an independent government agency with commissioners selected by the president from both political parties. That panel raised prices on packages by almost 2 percent in November.  Amazon was founded by Jeff Bezos, who remains the chief executive officer of the retail company and is the richest person in the world, according to Bloomberg News. Bezos also owns The Washington Post, a newspaper Trump has repeatedly railed against in his criticisms of the news media. In tweets over the past year, Trump has said the \\u201cAmazon Washington Post\\u201d fabricated stories. He has said Amazon does not pay sales tax, which is not true, and so hurts other retailers, part of a pattern by the former businessman and reality television host of periodically turning his ire on big American companies since he took office in January. Daniel Ives, a research analyst at GBH Insights, said Trump\\u2019s comment could be taken as a warning to the retail giant. However, he said he was not concerned for Amazon. \\u201cWe do not see any price hikes in the future. However, that is a risk that Amazon is clearly aware of and (it) is building out its distribution (system) aggressively,\\u201d he said. Amazon has shown interest in the past in shifting into its own delivery service, including testing drones for deliveries. In 2015, the company spent $11.5 billion on shipping, 46 percent of its total operating expenses that year.  Amazon shares were down 0.86 percent to $1,175.90 by early afternoon. Overall, U.S. stock prices were down slightly on Friday.  Satish Jindel, president of ShipMatrix Inc, which analyzes shipping data, disputed the idea that the Postal Service charges less than United Parcel Service Inc (UPS.N) and FedEx Corp (FDX.N), the other biggest players in the parcel delivery business in the United States. Many customers get lower rates from UPS and FedEx than they would get from the post office for comparable services, he said. The Postal Service delivers about 62 percent of Amazon packages, for about 3.5 to 4 million a day during the current peak year-end holiday shipping season, Jindel said. The Seattle-based company and the post office have an agreement in which mail carriers take Amazon packages on the last leg of their journeys, from post offices to customers\\u2019 doorsteps. Amazon\\u2019s No. 2 carrier is UPS, at 21 percent, and FedEx is third, with 8 percent or so, according to Jindel. Trump\\u2019s comment tapped into a debate over whether Postal Service pricing has kept pace with the rise of e-commerce, which has flooded the mail with small packages.Private companies like UPS have long claimed the current system unfairly undercuts their business. Steve Gaut, a spokesman for UPS, noted that the company values its \\u201cproductive relationship\\u201d with the postal service, but that it has filed with the Postal Regulatory Commission its concerns about the postal service\\u2019s methods for covering costs. Representatives for Amazon, the White House, the U.S. Postal Service and FedEx declined comment or were not immediately available for comment on Trump\\u2019s tweet. According to its annual report, the Postal Service lost $2.74 billion this year, and its deficit has ballooned to $61.86 billion.  While the Postal Service\\u2019s revenue for first class mail, marketing mail and periodicals is flat or declining, revenue from package delivery is up 44 percent since 2014 to $19.5 billion in the fiscal year ended Sept. 30, 2017. But it also lost about $2 billion in revenue when a temporary surcharge expired in April 2016. According to a Government Accountability Office report in February, the service is facing growing personnel expenses, particularly $73.4 billion in unfunded pension and benefits liabilities. The Postal Service has not announced any plans to cut costs. By law, the Postal Service has to set prices for package delivery to cover the costs attributable to that service. But the postal service allocates only 5.5 percent of its total costs to its business of shipping packages even though that line of business is 28 percent of its total revenue. \",\n          \"WASHINGTON (Reuters) - The special counsel investigation of links between Russia and President Trump\\u2019s 2016 election campaign should continue without interference in 2018, despite calls from some Trump administration allies and Republican lawmakers to shut it down, a prominent Republican senator said on Sunday. Lindsey Graham, who serves on the Senate armed forces and judiciary committees, said Department of Justice Special Counsel Robert Mueller needs to carry on with his Russia investigation without political interference. \\u201cThis investigation will go forward. It will be an investigation conducted without political influence,\\u201d Graham said on CBS\\u2019s Face the Nation news program. \\u201cAnd we all need to let Mr. Mueller do his job. I think he\\u2019s the right guy at the right time.\\u201d  The question of how Russia may have interfered in the election, and how Trump\\u2019s campaign may have had links with or co-ordinated any such effort, has loomed over the White House since Trump took office in January. It shows no sign of receding as Trump prepares for his second year in power, despite intensified rhetoric from some Trump allies in recent weeks accusing Mueller\\u2019s team of bias against the Republican president. Trump himself seemed to undercut his supporters in an interview last week with the New York Times in which he said he expected Mueller was \\u201cgoing to be fair.\\u201d    Russia\\u2019s role in the election and the question of possible links to the Trump campaign are the focus of multiple inquiries in Washington. Three committees of the Senate and the House of Representatives are investigating, as well as Mueller, whose team in May took over an earlier probe launched by the U.S. Federal Bureau of Investigation (FBI). Several members of the Trump campaign and administration have been convicted or indicted in the investigation.  Trump and his allies deny any collusion with Russia during the campaign, and the Kremlin has denied meddling in the election. Graham said he still wants an examination of the FBI\\u2019s use of a dossier on links between Trump and Russia that was compiled by a former British spy, Christopher Steele, which prompted Trump allies and some Republicans to question Mueller\\u2019s inquiry.   On Saturday, the New York Times reported that it was not that dossier that triggered an early FBI probe, but a tip from former Trump campaign foreign policy adviser George Papadopoulos to an Australian diplomat that Russia had damaging information about former Trump rival Hillary Clinton.  \\u201cI want somebody to look at the way the Department of Justice used this dossier. It bothers me greatly the way they used it, and I want somebody to look at it,\\u201d Graham said. But he said the Russia investigation must continue. \\u201cAs a matter of fact, it would hurt us if we ignored it,\\u201d he said. \"\n        ],\n        \"semantic_type\": \"\",\n        \"description\": \"\"\n      }\n    },\n    {\n      \"column\": \"subject\",\n      \"properties\": {\n        \"dtype\": \"category\",\n        \"num_unique_values\": 1,\n        \"samples\": [\n          \"politicsNews\"\n        ],\n        \"semantic_type\": \"\",\n        \"description\": \"\"\n      }\n    },\n    {\n      \"column\": \"date\",\n      \"properties\": {\n        \"dtype\": \"object\",\n        \"num_unique_values\": 3,\n        \"samples\": [\n          \"December 31, 2017 \"\n        ],\n        \"semantic_type\": \"\",\n        \"description\": \"\"\n      }\n    }\n  ]\n}"
            }
          },
          "metadata": {}
        }
      ]
    },
    {
      "cell_type": "code",
      "source": [
        "fake_news_data[\"class\"] = 1  # Fake News data → 1\n",
        "true_news_data[\"class\"] = 0  # True News data → 0"
      ],
      "metadata": {
        "id": "j8UPR_6kDjyo"
      },
      "execution_count": 45,
      "outputs": []
    },
    {
      "cell_type": "code",
      "source": [
        "# merged true and fake news datasets\n",
        "merged_data = [fake_news_data,true_news_data]\n",
        "df = pd.concat(merged_data,axis=0)"
      ],
      "metadata": {
        "id": "WNaogr4ITRBN"
      },
      "execution_count": 46,
      "outputs": []
    },
    {
      "cell_type": "markdown",
      "source": [
        "**Q2.** drop rows from the dataset consisting null values."
      ],
      "metadata": {
        "id": "Pmt1Dt4WScjD"
      }
    },
    {
      "cell_type": "code",
      "source": [
        "# Drop rows with missing values\n",
        "fake_news_data = fake_news_data.dropna()\n",
        "true_news_data = true_news_data.dropna()\n",
        "\n",
        "print(\"Fake news dataset shape after dropping nulls:\", fake_news_data.shape)\n",
        "print(\"True news dataset shape after dropping nulls:\", true_news_data.shape)"
      ],
      "metadata": {
        "colab": {
          "base_uri": "https://localhost:8080/"
        },
        "id": "ki8QR3E6Z8pE",
        "outputId": "31e4f491-dd0c-430e-b5cb-3211bfb554af"
      },
      "execution_count": 47,
      "outputs": [
        {
          "output_type": "stream",
          "name": "stdout",
          "text": [
            "Fake news dataset shape after dropping nulls: (23481, 5)\n",
            "True news dataset shape after dropping nulls: (21417, 5)\n"
          ]
        }
      ]
    },
    {
      "cell_type": "markdown",
      "source": [
        "**Q3.** shuffle the data."
      ],
      "metadata": {
        "id": "lwAYZdVGTjF6"
      }
    },
    {
      "cell_type": "code",
      "source": [
        "# Shuffle the fake dataset\n",
        "fake_news_data = fake_news_data.sample(frac=1)\n",
        "\n",
        "# Shuffle the true dataset\n",
        "true_news_data = true_news_data.sample(frac=1)"
      ],
      "metadata": {
        "id": "tCahSMvTTVYE"
      },
      "execution_count": 48,
      "outputs": []
    },
    {
      "cell_type": "code",
      "source": [
        "#reset index of the merged dataframe\n",
        "df = df.reset_index(drop=True)"
      ],
      "metadata": {
        "id": "ES6BpPEOGtZB"
      },
      "execution_count": 49,
      "outputs": []
    },
    {
      "cell_type": "code",
      "source": [
        "# view top 10 rows of processed dataset\n",
        "df.head(10)"
      ],
      "metadata": {
        "colab": {
          "base_uri": "https://localhost:8080/",
          "height": 363
        },
        "id": "2Qs7_KjraAze",
        "outputId": "ceca25aa-e888-4f5e-fdde-3a5890649c2d"
      },
      "execution_count": 50,
      "outputs": [
        {
          "output_type": "execute_result",
          "data": {
            "text/plain": [
              "                                               title  \\\n",
              "0   Donald Trump Sends Out Embarrassing New Year’...   \n",
              "1   Drunk Bragging Trump Staffer Started Russian ...   \n",
              "2   Sheriff David Clarke Becomes An Internet Joke...   \n",
              "3   Trump Is So Obsessed He Even Has Obama’s Name...   \n",
              "4   Pope Francis Just Called Out Donald Trump Dur...   \n",
              "5   Racist Alabama Cops Brutalize Black Boy While...   \n",
              "6   Fresh Off The Golf Course, Trump Lashes Out A...   \n",
              "7   Trump Said Some INSANELY Racist Stuff Inside ...   \n",
              "8   Former CIA Director Slams Trump Over UN Bully...   \n",
              "9   WATCH: Brand-New Pro-Trump Ad Features So Muc...   \n",
              "\n",
              "                                                text subject  \\\n",
              "0  Donald Trump just couldn t wish all Americans ...    News   \n",
              "1  House Intelligence Committee Chairman Devin Nu...    News   \n",
              "2  On Friday, it was revealed that former Milwauk...    News   \n",
              "3  On Christmas day, Donald Trump announced that ...    News   \n",
              "4  Pope Francis used his annual Christmas Day mes...    News   \n",
              "5  The number of cases of cops brutalizing and ki...    News   \n",
              "6  Donald Trump spent a good portion of his day a...    News   \n",
              "7  In the wake of yet another court decision that...    News   \n",
              "8  Many people have raised the alarm regarding th...    News   \n",
              "9  Just when you might have thought we d get a br...    News   \n",
              "\n",
              "                date  class  \n",
              "0  December 31, 2017      1  \n",
              "1  December 31, 2017      1  \n",
              "2  December 30, 2017      1  \n",
              "3  December 29, 2017      1  \n",
              "4  December 25, 2017      1  \n",
              "5  December 25, 2017      1  \n",
              "6  December 23, 2017      1  \n",
              "7  December 23, 2017      1  \n",
              "8  December 22, 2017      1  \n",
              "9  December 21, 2017      1  "
            ],
            "text/html": [
              "\n",
              "  <div id=\"df-7dad6ff4-9db5-4347-a358-6077945bd810\" class=\"colab-df-container\">\n",
              "    <div>\n",
              "<style scoped>\n",
              "    .dataframe tbody tr th:only-of-type {\n",
              "        vertical-align: middle;\n",
              "    }\n",
              "\n",
              "    .dataframe tbody tr th {\n",
              "        vertical-align: top;\n",
              "    }\n",
              "\n",
              "    .dataframe thead th {\n",
              "        text-align: right;\n",
              "    }\n",
              "</style>\n",
              "<table border=\"1\" class=\"dataframe\">\n",
              "  <thead>\n",
              "    <tr style=\"text-align: right;\">\n",
              "      <th></th>\n",
              "      <th>title</th>\n",
              "      <th>text</th>\n",
              "      <th>subject</th>\n",
              "      <th>date</th>\n",
              "      <th>class</th>\n",
              "    </tr>\n",
              "  </thead>\n",
              "  <tbody>\n",
              "    <tr>\n",
              "      <th>0</th>\n",
              "      <td>Donald Trump Sends Out Embarrassing New Year’...</td>\n",
              "      <td>Donald Trump just couldn t wish all Americans ...</td>\n",
              "      <td>News</td>\n",
              "      <td>December 31, 2017</td>\n",
              "      <td>1</td>\n",
              "    </tr>\n",
              "    <tr>\n",
              "      <th>1</th>\n",
              "      <td>Drunk Bragging Trump Staffer Started Russian ...</td>\n",
              "      <td>House Intelligence Committee Chairman Devin Nu...</td>\n",
              "      <td>News</td>\n",
              "      <td>December 31, 2017</td>\n",
              "      <td>1</td>\n",
              "    </tr>\n",
              "    <tr>\n",
              "      <th>2</th>\n",
              "      <td>Sheriff David Clarke Becomes An Internet Joke...</td>\n",
              "      <td>On Friday, it was revealed that former Milwauk...</td>\n",
              "      <td>News</td>\n",
              "      <td>December 30, 2017</td>\n",
              "      <td>1</td>\n",
              "    </tr>\n",
              "    <tr>\n",
              "      <th>3</th>\n",
              "      <td>Trump Is So Obsessed He Even Has Obama’s Name...</td>\n",
              "      <td>On Christmas day, Donald Trump announced that ...</td>\n",
              "      <td>News</td>\n",
              "      <td>December 29, 2017</td>\n",
              "      <td>1</td>\n",
              "    </tr>\n",
              "    <tr>\n",
              "      <th>4</th>\n",
              "      <td>Pope Francis Just Called Out Donald Trump Dur...</td>\n",
              "      <td>Pope Francis used his annual Christmas Day mes...</td>\n",
              "      <td>News</td>\n",
              "      <td>December 25, 2017</td>\n",
              "      <td>1</td>\n",
              "    </tr>\n",
              "    <tr>\n",
              "      <th>5</th>\n",
              "      <td>Racist Alabama Cops Brutalize Black Boy While...</td>\n",
              "      <td>The number of cases of cops brutalizing and ki...</td>\n",
              "      <td>News</td>\n",
              "      <td>December 25, 2017</td>\n",
              "      <td>1</td>\n",
              "    </tr>\n",
              "    <tr>\n",
              "      <th>6</th>\n",
              "      <td>Fresh Off The Golf Course, Trump Lashes Out A...</td>\n",
              "      <td>Donald Trump spent a good portion of his day a...</td>\n",
              "      <td>News</td>\n",
              "      <td>December 23, 2017</td>\n",
              "      <td>1</td>\n",
              "    </tr>\n",
              "    <tr>\n",
              "      <th>7</th>\n",
              "      <td>Trump Said Some INSANELY Racist Stuff Inside ...</td>\n",
              "      <td>In the wake of yet another court decision that...</td>\n",
              "      <td>News</td>\n",
              "      <td>December 23, 2017</td>\n",
              "      <td>1</td>\n",
              "    </tr>\n",
              "    <tr>\n",
              "      <th>8</th>\n",
              "      <td>Former CIA Director Slams Trump Over UN Bully...</td>\n",
              "      <td>Many people have raised the alarm regarding th...</td>\n",
              "      <td>News</td>\n",
              "      <td>December 22, 2017</td>\n",
              "      <td>1</td>\n",
              "    </tr>\n",
              "    <tr>\n",
              "      <th>9</th>\n",
              "      <td>WATCH: Brand-New Pro-Trump Ad Features So Muc...</td>\n",
              "      <td>Just when you might have thought we d get a br...</td>\n",
              "      <td>News</td>\n",
              "      <td>December 21, 2017</td>\n",
              "      <td>1</td>\n",
              "    </tr>\n",
              "  </tbody>\n",
              "</table>\n",
              "</div>\n",
              "    <div class=\"colab-df-buttons\">\n",
              "\n",
              "  <div class=\"colab-df-container\">\n",
              "    <button class=\"colab-df-convert\" onclick=\"convertToInteractive('df-7dad6ff4-9db5-4347-a358-6077945bd810')\"\n",
              "            title=\"Convert this dataframe to an interactive table.\"\n",
              "            style=\"display:none;\">\n",
              "\n",
              "  <svg xmlns=\"http://www.w3.org/2000/svg\" height=\"24px\" viewBox=\"0 -960 960 960\">\n",
              "    <path d=\"M120-120v-720h720v720H120Zm60-500h600v-160H180v160Zm220 220h160v-160H400v160Zm0 220h160v-160H400v160ZM180-400h160v-160H180v160Zm440 0h160v-160H620v160ZM180-180h160v-160H180v160Zm440 0h160v-160H620v160Z\"/>\n",
              "  </svg>\n",
              "    </button>\n",
              "\n",
              "  <style>\n",
              "    .colab-df-container {\n",
              "      display:flex;\n",
              "      gap: 12px;\n",
              "    }\n",
              "\n",
              "    .colab-df-convert {\n",
              "      background-color: #E8F0FE;\n",
              "      border: none;\n",
              "      border-radius: 50%;\n",
              "      cursor: pointer;\n",
              "      display: none;\n",
              "      fill: #1967D2;\n",
              "      height: 32px;\n",
              "      padding: 0 0 0 0;\n",
              "      width: 32px;\n",
              "    }\n",
              "\n",
              "    .colab-df-convert:hover {\n",
              "      background-color: #E2EBFA;\n",
              "      box-shadow: 0px 1px 2px rgba(60, 64, 67, 0.3), 0px 1px 3px 1px rgba(60, 64, 67, 0.15);\n",
              "      fill: #174EA6;\n",
              "    }\n",
              "\n",
              "    .colab-df-buttons div {\n",
              "      margin-bottom: 4px;\n",
              "    }\n",
              "\n",
              "    [theme=dark] .colab-df-convert {\n",
              "      background-color: #3B4455;\n",
              "      fill: #D2E3FC;\n",
              "    }\n",
              "\n",
              "    [theme=dark] .colab-df-convert:hover {\n",
              "      background-color: #434B5C;\n",
              "      box-shadow: 0px 1px 3px 1px rgba(0, 0, 0, 0.15);\n",
              "      filter: drop-shadow(0px 1px 2px rgba(0, 0, 0, 0.3));\n",
              "      fill: #FFFFFF;\n",
              "    }\n",
              "  </style>\n",
              "\n",
              "    <script>\n",
              "      const buttonEl =\n",
              "        document.querySelector('#df-7dad6ff4-9db5-4347-a358-6077945bd810 button.colab-df-convert');\n",
              "      buttonEl.style.display =\n",
              "        google.colab.kernel.accessAllowed ? 'block' : 'none';\n",
              "\n",
              "      async function convertToInteractive(key) {\n",
              "        const element = document.querySelector('#df-7dad6ff4-9db5-4347-a358-6077945bd810');\n",
              "        const dataTable =\n",
              "          await google.colab.kernel.invokeFunction('convertToInteractive',\n",
              "                                                    [key], {});\n",
              "        if (!dataTable) return;\n",
              "\n",
              "        const docLinkHtml = 'Like what you see? Visit the ' +\n",
              "          '<a target=\"_blank\" href=https://colab.research.google.com/notebooks/data_table.ipynb>data table notebook</a>'\n",
              "          + ' to learn more about interactive tables.';\n",
              "        element.innerHTML = '';\n",
              "        dataTable['output_type'] = 'display_data';\n",
              "        await google.colab.output.renderOutput(dataTable, element);\n",
              "        const docLink = document.createElement('div');\n",
              "        docLink.innerHTML = docLinkHtml;\n",
              "        element.appendChild(docLink);\n",
              "      }\n",
              "    </script>\n",
              "  </div>\n",
              "\n",
              "\n",
              "    <div id=\"df-173dab12-844d-47b3-a51d-41f98363dc54\">\n",
              "      <button class=\"colab-df-quickchart\" onclick=\"quickchart('df-173dab12-844d-47b3-a51d-41f98363dc54')\"\n",
              "                title=\"Suggest charts\"\n",
              "                style=\"display:none;\">\n",
              "\n",
              "<svg xmlns=\"http://www.w3.org/2000/svg\" height=\"24px\"viewBox=\"0 0 24 24\"\n",
              "     width=\"24px\">\n",
              "    <g>\n",
              "        <path d=\"M19 3H5c-1.1 0-2 .9-2 2v14c0 1.1.9 2 2 2h14c1.1 0 2-.9 2-2V5c0-1.1-.9-2-2-2zM9 17H7v-7h2v7zm4 0h-2V7h2v10zm4 0h-2v-4h2v4z\"/>\n",
              "    </g>\n",
              "</svg>\n",
              "      </button>\n",
              "\n",
              "<style>\n",
              "  .colab-df-quickchart {\n",
              "      --bg-color: #E8F0FE;\n",
              "      --fill-color: #1967D2;\n",
              "      --hover-bg-color: #E2EBFA;\n",
              "      --hover-fill-color: #174EA6;\n",
              "      --disabled-fill-color: #AAA;\n",
              "      --disabled-bg-color: #DDD;\n",
              "  }\n",
              "\n",
              "  [theme=dark] .colab-df-quickchart {\n",
              "      --bg-color: #3B4455;\n",
              "      --fill-color: #D2E3FC;\n",
              "      --hover-bg-color: #434B5C;\n",
              "      --hover-fill-color: #FFFFFF;\n",
              "      --disabled-bg-color: #3B4455;\n",
              "      --disabled-fill-color: #666;\n",
              "  }\n",
              "\n",
              "  .colab-df-quickchart {\n",
              "    background-color: var(--bg-color);\n",
              "    border: none;\n",
              "    border-radius: 50%;\n",
              "    cursor: pointer;\n",
              "    display: none;\n",
              "    fill: var(--fill-color);\n",
              "    height: 32px;\n",
              "    padding: 0;\n",
              "    width: 32px;\n",
              "  }\n",
              "\n",
              "  .colab-df-quickchart:hover {\n",
              "    background-color: var(--hover-bg-color);\n",
              "    box-shadow: 0 1px 2px rgba(60, 64, 67, 0.3), 0 1px 3px 1px rgba(60, 64, 67, 0.15);\n",
              "    fill: var(--button-hover-fill-color);\n",
              "  }\n",
              "\n",
              "  .colab-df-quickchart-complete:disabled,\n",
              "  .colab-df-quickchart-complete:disabled:hover {\n",
              "    background-color: var(--disabled-bg-color);\n",
              "    fill: var(--disabled-fill-color);\n",
              "    box-shadow: none;\n",
              "  }\n",
              "\n",
              "  .colab-df-spinner {\n",
              "    border: 2px solid var(--fill-color);\n",
              "    border-color: transparent;\n",
              "    border-bottom-color: var(--fill-color);\n",
              "    animation:\n",
              "      spin 1s steps(1) infinite;\n",
              "  }\n",
              "\n",
              "  @keyframes spin {\n",
              "    0% {\n",
              "      border-color: transparent;\n",
              "      border-bottom-color: var(--fill-color);\n",
              "      border-left-color: var(--fill-color);\n",
              "    }\n",
              "    20% {\n",
              "      border-color: transparent;\n",
              "      border-left-color: var(--fill-color);\n",
              "      border-top-color: var(--fill-color);\n",
              "    }\n",
              "    30% {\n",
              "      border-color: transparent;\n",
              "      border-left-color: var(--fill-color);\n",
              "      border-top-color: var(--fill-color);\n",
              "      border-right-color: var(--fill-color);\n",
              "    }\n",
              "    40% {\n",
              "      border-color: transparent;\n",
              "      border-right-color: var(--fill-color);\n",
              "      border-top-color: var(--fill-color);\n",
              "    }\n",
              "    60% {\n",
              "      border-color: transparent;\n",
              "      border-right-color: var(--fill-color);\n",
              "    }\n",
              "    80% {\n",
              "      border-color: transparent;\n",
              "      border-right-color: var(--fill-color);\n",
              "      border-bottom-color: var(--fill-color);\n",
              "    }\n",
              "    90% {\n",
              "      border-color: transparent;\n",
              "      border-bottom-color: var(--fill-color);\n",
              "    }\n",
              "  }\n",
              "</style>\n",
              "\n",
              "      <script>\n",
              "        async function quickchart(key) {\n",
              "          const quickchartButtonEl =\n",
              "            document.querySelector('#' + key + ' button');\n",
              "          quickchartButtonEl.disabled = true;  // To prevent multiple clicks.\n",
              "          quickchartButtonEl.classList.add('colab-df-spinner');\n",
              "          try {\n",
              "            const charts = await google.colab.kernel.invokeFunction(\n",
              "                'suggestCharts', [key], {});\n",
              "          } catch (error) {\n",
              "            console.error('Error during call to suggestCharts:', error);\n",
              "          }\n",
              "          quickchartButtonEl.classList.remove('colab-df-spinner');\n",
              "          quickchartButtonEl.classList.add('colab-df-quickchart-complete');\n",
              "        }\n",
              "        (() => {\n",
              "          let quickchartButtonEl =\n",
              "            document.querySelector('#df-173dab12-844d-47b3-a51d-41f98363dc54 button');\n",
              "          quickchartButtonEl.style.display =\n",
              "            google.colab.kernel.accessAllowed ? 'block' : 'none';\n",
              "        })();\n",
              "      </script>\n",
              "    </div>\n",
              "\n",
              "    </div>\n",
              "  </div>\n"
            ],
            "application/vnd.google.colaboratory.intrinsic+json": {
              "type": "dataframe",
              "variable_name": "df",
              "summary": "{\n  \"name\": \"df\",\n  \"rows\": 44898,\n  \"fields\": [\n    {\n      \"column\": \"title\",\n      \"properties\": {\n        \"dtype\": \"string\",\n        \"num_unique_values\": 38729,\n        \"samples\": [\n          \"Supreme Court Justice Ginsburg 'regrets' Trump criticisms\",\n          \" DOZENS Of GOP Foreign Policy Experts Pledge To Stop Trump From Winning Nomination\",\n          \" REPORT: Trump Laughed After Woman Was Grabbed \\u2018By The P*ssy\\u2019 On Apprentice Set\"\n        ],\n        \"semantic_type\": \"\",\n        \"description\": \"\"\n      }\n    },\n    {\n      \"column\": \"text\",\n      \"properties\": {\n        \"dtype\": \"string\",\n        \"num_unique_values\": 38646,\n        \"samples\": [\n          \" (This September 29 has been corrected to fix date of election in paragraph 3) NAIROBI (Reuters) - A Kenyan government watchdog said on Friday it was investigating whether police had assaulted students during protests this week at the University of Nairobi over the detention of an opposition lawmaker.   Police fired tear gas on Thursday at the protesting students. Video footage posted on social media later in the day showed uniformed officers outside dormitories and inside classrooms using batons to hit people who did not appear to be involved in the campus protests.  It was the latest crackdown by police on protests since an Aug. 8 presidential election that was later annulled by the Supreme Court. A re-run of the vote has been set for Oct. 26. The Independent Police Oversight Authority (IPOA)  this morning noted from social media reports of an incident in which members of the National Police Service allegedly stormed the University of Nairobi and assaulted students at the institution,  the authority said on its Twitter feed.  It requested that any member of the public come forward to provide information to aid the investigation.  The students had been protesting against the re-arrest of a lawmaker, Paul Ongili Owino, on Wednesday, shortly after he was released on bail on charges of subversion for calling President Uhuru Kenyatta a  son of a dog  at a campaign rally. Kenya is a key Western ally in a region often roiled by violence. Preparations for the re-run of the election are being closely monitored for signs of instability, after at least 28 people were killed in unrest following the Aug. 8 vote. The IPOA watchdog was created in 2011, after police came under severe criticism for the number of protesters killed during demonstrations against disputed elections in 2007. The violence then killed around 1,2000 people. But local and international rights groups say the institution is struggling to fulfill its mandate to investigate allegations of police brutality in a country rife with reports from civilians of extrajudicial killings by security forces.  The IPOA has secured two convictions of police officers in the four years it has been operational. The watchdog pledged last month to fast-track investigations into high-profile deaths such as that of a baby allegedly killed by police in the violence after the election. [L4N1L34FC] But people familiar with the status of these investigations say the police are not cooperating with them, and that senior officials in the police force and the interior ministry insist officers killed only thieves and thugs. \",\n          \"WASHINGTON/CAIRO (Reuters) - Five Iraqi passengers and one Yemeni were barred from boarding an EgyptAir flight from Cairo to New York on Saturday after President Donald Trump halted the entry of citizens from seven Muslim-majority countries, sources at Cairo airport said. The passengers, arriving in transit to Cairo airport, were stopped and re-directed to flights headed for their home countries despite holding valid visas, the sources said.  Trump on Friday put a four-month hold on allowing refugees into the United States and temporarily barred travelers from Syria and six other Muslim-majority countries, saying the moves would help protect Americans from terrorist attacks. He said his most sweeping use of his presidential powers since taking office a week ago, barring travelers from the seven nations for at least 90 days, would give his administration time to develop more stringent screening procedures for refugees, immigrants and visitors. \\u201cI\\u2019m establishing new vetting measures to keep radical Islamic terrorists out of the United States of America. Don\\u2019t want them here,\\u201d Trump said earlier on Friday at the Pentagon. \\u201cWe only want to admit those into our country who will support our country and love deeply our people,\\u201d he said. The bans, though temporary, took effect immediately, causing havoc and confusion for would-be travelers with passports from Iran, Iraq, Libya, Somalia, Sudan, Syria and Yemen. Besides Cairo it was not immediately clear whether other  airports of countries listed by Trump had swiftly implemented the ban. Arab officials of the listed countries would not comment on the matter. The order seeks to prioritize refugees fleeing religious persecution, a move Trump separately said was aimed at helping Christians in Syria. That led some legal experts to question whether the order was constitutional. One group said it would announce a court challenge on Monday. The Council on American-Islamic Relations said the order targets Muslims because of their faith, contravening the U.S. Constitutional right to freedom of religion. \\u201cPresident Trump has cloaked what is a discriminatory ban against nationals of Muslim countries under the banner of national security,\\u201d said Greg Chen of the American Immigration Lawyers Association.  Trump has long pledged to take this kind of action, making it a prominent feature of his campaign for the Nov. 8 election. But people who work with Muslim immigrants and refugees were scrambling to determine the scope of the order. Even legal permanent residents - people with \\u201cgreen cards\\u201d allowing them to live and work in the United States - were being advised to consult immigration lawyers before traveling outside the country, or trying to return, according to Muslim Advocates, a civil rights group in Washington.  On Friday evening, Abed Ayoub of the American-Arab Anti-Discrimination Committee said he had fielded about 100 queries from people anxious about the order, which he said he believed could affect traveling green card holders, students, people coming to the United States for medical care and others. \\u201cIt\\u2019s chaos,\\u201d Ayoub said. During his campaign, Trump tapped into American fears about Islamic State militants and the flood of migrants into Europe from Syria\\u2019s civil war, saying refugees could be a \\u201cTrojan horse\\u201d that allowed attackers to enter the United States. In December 2015, he called for a ban on all Muslims entering the United States, drawing fire for suggesting a religious test for immigrants that critics said would violate the U.S. Constitution. His idea later evolved into a proposal for \\u201cextreme vetting.\\u201d  Trump\\u2019s order also suspends the Syrian refugee program until further notice, and will eventually give priority to minority religious groups fleeing persecution.  Trump said in an interview with the Christian Broadcasting Network that the exception would help Syrian Christians fleeing the civil war there. Legal experts were divided on whether this order would be constitutional. \\u201cIf they are thinking about an exception for Christians, in almost any other legal context discriminating in favor of one religion and against another religion could violate the constitution,\\u201d said Stephen Legomsky, a former chief counsel at U.S. Citizenship and Immigration Services in the Obama administration. But Peter Spiro, a professor at Temple University Beasley School of Law, said Trump\\u2019s action would likely be constitutional because the president and Congress are allowed considerable deference when it comes to asylum decisions. \\u201cIt\\u2019s a completely plausible prioritization, to the extent this group is actually being persecuted,\\u201d Spiro said. The order may also affect special refugee programs for Iraqis who worked for the U.S. government as translators after the 2003 invasion of Iraq. It is already affecting refugees and their families, said Jen Smyers of the Church World Service, a Protestant faith-based group that works with migrants. Smyers said she spoke to an Iraqi mother whose twin daughters remain in Iraq due to processing delays. \\u201cThose two 18-year-old daughters won\\u2019t be able to join their mother in the U.S.,\\u201d she said. Democrats on Friday were quick to condemn Trump\\u2019s order as un-American, saying it would tarnish the reputation of the United States as a land that welcomes immigrants. \\u201cToday\\u2019s executive order from President Trump is more about extreme xenophobia than extreme vetting,\\u201d said Democratic Senator Edward Markey in a statement. Some Republicans praised the move. Representative Bob Goodlatte, chairman of the House of Representatives Judiciary Committee, said Islamic State has threatened to use the U.S. immigration system, making it important to do more screening. \\u201cI am pleased that President Trump is using the tools granted to him by Congress and the power granted by the Constitution to help keep America safe and ensure we know who is entering the United States,\\u201d Goodlatte said in a statement. Without naming Trump, Iranian President Hassan Rouhani said on Saturday it was no time to build walls between nations and criticized steps towards cancelling world trade agreements. Trump on Wednesday ordered the construction of a U.S.-Mexican border wall, a major promise during his election campaign, as part of a package of measures to curb illegal immigration. \\u201cToday is not the time to erect walls between nations. They have forgotten that the Berlin wall fell years ago,\\u201d Rouhani said in a speech carried live on Iranian state television. He made no direct reference to Trump\\u2019s order regarding refugees and travelers from the seven mainly Muslim states. Rouhani, a pragmatist elected in 2013, thawed Iran\\u2019s relations with world powers after years of confrontation and engineered its 2015 deal with them under which it curbed its nuclear program in exchange for relief from sanctions. Rouhani said earlier this month that Trump could not unilaterally cancel the nuclear deal and that talk of renegotiating it was \\u201cmeaningless\\u201d. France and Germany voiced disquiet on Saturday over Trump\\u2019s new restrictions on immigration. \\u201cWelcoming refugees who flee war and oppression is part of our duty,\\u201d French Foreign Minister Jean-Marc Ayrault said at a joint news conference with German counterpart Sigmar Gabriel. \\u201cThe United States is a country where Christian traditions have an important meaning. Loving your neighbor is a major Christian value, and that includes helping people,\\u201d said  Gabriel. \\u201cI think that is what unites us in the West, and I think that is what we want to make clear to the Americans.\\u201d \",\n          \"PRISTINA (Reuters) - Kosovo s center-right coalition led by the Democratic Party of Kosovo signed a deal on Monday with the small New Alliance for Kosovo party to form a government, ending nearly three months of political deadlock after an election on June 11.      Finally Kosovo has started to move ... we had some big delays and our institutions now will be formed,  said Ramush Haradinaj, from the center-right coalition of parties made up of former guerrillas who fought the 1998-99 war against Serb forces. Under the deal, the parties along with ethnic minorities will secure 63 seats in the 120-seat parliament.  President Hashim Thaci is expected to give Haradinaj a mandate to form the government within days. A source who asked not to be named told Reuters the parliament session to elect the parliament speaker would be held this week. Haradinaj, who twice stood trial before the United Nations war crimes court for war crimes and was acquitted, briefly held the post of prime minister in 2005.  The smaller New Alliance for Kosovo party is led by Behgjet Pacolli, who is dubbed by media the richest Kosovar.  Pacolli, who also holds a Swiss passport, won many contracts from the Russian government to rebuild state buildings in Moscow in the  90s but a decade ago he moved his business from Moscow to Kazakhstan.  It is unclear what post Pacolli will hold in the new government.  The new government will have to tackle unemployment running at 30 percent and improve relations with Kosovo s neighbors, especially Serbia, a precondition for both countries to move forward in the European Union accession process. It must also reform health and education and the tax administration system as well as include representatives of some 120,000 Kosovo Serbs who do not recognize independence. Kosovo declared independence from Serbia in 2008, almost a decade after NATO air strikes drove out Serbian forces accused of expelling and killing ethnic Albanian civilians in a two-year counter-insurgency.  \"\n        ],\n        \"semantic_type\": \"\",\n        \"description\": \"\"\n      }\n    },\n    {\n      \"column\": \"subject\",\n      \"properties\": {\n        \"dtype\": \"category\",\n        \"num_unique_values\": 8,\n        \"samples\": [\n          \"politics\",\n          \"Middle-east\",\n          \"News\"\n        ],\n        \"semantic_type\": \"\",\n        \"description\": \"\"\n      }\n    },\n    {\n      \"column\": \"date\",\n      \"properties\": {\n        \"dtype\": \"category\",\n        \"num_unique_values\": 2397,\n        \"samples\": [\n          \"October 6, 2016\",\n          \"June 10, 2017\",\n          \"Sep 13, 2015\"\n        ],\n        \"semantic_type\": \"\",\n        \"description\": \"\"\n      }\n    },\n    {\n      \"column\": \"class\",\n      \"properties\": {\n        \"dtype\": \"number\",\n        \"std\": 0,\n        \"min\": 0,\n        \"max\": 1,\n        \"num_unique_values\": 2,\n        \"samples\": [\n          0,\n          1\n        ],\n        \"semantic_type\": \"\",\n        \"description\": \"\"\n      }\n    }\n  ]\n}"
            }
          },
          "metadata": {},
          "execution_count": 50
        }
      ]
    },
    {
      "cell_type": "markdown",
      "source": [
        "**Q4.** view the text content of a random data point."
      ],
      "metadata": {
        "id": "lnnRk7xMUJUb"
      }
    },
    {
      "cell_type": "code",
      "source": [
        "# Just the 'text' column from one random row\n",
        "print(fake_news_data['text'].sample(1).values[0])\n",
        "\n",
        "print(true_news_data['text'].sample(1).values[0])"
      ],
      "metadata": {
        "colab": {
          "base_uri": "https://localhost:8080/"
        },
        "id": "NTHY-KpBaC18",
        "outputId": "12297083-b438-4807-9acc-fc28714cb76d"
      },
      "execution_count": 51,
      "outputs": [
        {
          "output_type": "stream",
          "name": "stdout",
          "text": [
            "Not-My-President-Elect Donald Trump s claim that millions of voters had cast illegal ballots on election day has become a contentious issue because there is zero evidence to back up such an assertion. Trump s Twitter timeline is the epitome of  fake news.  In ncourt filings submitted by Trump s own attorneys in Pennsylvania and Michigan objecting to recount efforts by Green Party candidate Jill Stein, it states that there is  no evidence that any voter fraud had occurred,  according to the Washington Post.The filing in Michigan states: On what basis does Stein seek to disenfranchise Michigan citizens? None really, save for speculation,  the filing reads.  All available evidence suggests that the 2016 general election was not tainted by fraud or mistake. The lawyers state,  Stein aims to sow doubts regarding the legitimacy of the presidential election.  That s pretty ironic considering that that is precisely what Trump tried to do for years during President Obama s two terms.In the Pennsylvania filing, the lawyers state,  On what basis does Stein seek to disenfranchise the voters of the Keystone state? None really. There is no evidence   or even any allegation   that any tampering with Pennsylvania s voting systems actually occurred. Trump s Republican colleagues have tried to reinforce the notion of mass voter fraud. Reince Priebus said that it was  possible.  House Speaker Paul Ryan said he didn t know if millions of illegal votes were cast, because said that he is  not really focused on these things. Not-My-Vice-President-Elect Mike Pence said that he didn t know that the claim was false. Senior Adviser Kellyanne Conway has twisted herself into a pretzel trying to justify Trump s baseless claim. Rep. Darrell Issa (R-Calif.) got into a heated exchange with CNN anchor Chris Cuomo on Monday over the number of illegal votes cast in the presidential election. All of this happened because Donald Trump can t maintain his Twitter account like an adult.Featured image via Tom Pennington/Getty ImagesImages of court filings via Washington Post\n",
            "BRUSSELS (Reuters) - EU and U.S. negotiators said on Friday that they still needed to overcome large differences for a transatlantic free trade deal to be sealed this year, and factor in the impending exit from the European Union of Britain, one of the United States’ biggest export markets. The two sides are trying to agree on the Transatlantic Trade and Investment Partnership (TTIP), which supporters say could boost each economy by some $100 billion at a time when growth in China and emerging markets is slowing. Chief EU negotiator Ignacio Garcia Bercero and U.S. counterpart Dan Mullaney told a news conference after a 14th round of talks that both sides were committed to sealing a deal before U.S. President Barack Obama leaves office at the turn of the year. The partners have made progress on tariff elimination and on regulatory cooperation. However, they are stuck over EU demands including greater access to public sector tenders; Garcia Bercero described the U.S. offer as a serious cause of concern. Likewise, Washington is unhappy with the EU offer on services.  “Given the importance of this sector to both of our economies ... progress here has been noticeably and painfully slow,” said Mullaney. He also said that, while the economic rationale for TTIP remained strong, Britain’s exit from the European Union would force a rethink as it was the largest market anywhere for U.S. services, and took 25 percent of U.S. exports to the EU. “Imagine if the United States said, for instance, ‘Well, maybe TTIP will not apply to California’. There is a certain reflection that the parties need to have on those kind of developments.” The two sides had previously planned to produce a single consolidated TTIP text by the end of July. Garcia Bercero said that was now more likely to come by the end of September after further meetings between U.S. trade chief Michael Froman and EU commissioner Cecilia Malmstrom. Garcia Bercero acknowledged that the political environment was becoming more challenging. The environmental group Greenpeace echoed the view of many anti-TTIP campaigners on Friday by saying that it was time to hit the ‘Stop’ button. But the EU negotiator said TTIP was instead a positive response to concerns about globalization. “If we want to have a shot at shaping globalization, we need a like-minded partner that shares largely our views,” he said. Mullaney talked of a “unique window of opportunity” to complete TTIP this year that should not be allowed to slip away. “After this year, with one political transition after another over the next few years, it could be quite a while before we pick up negotiations again.” \n"
          ]
        }
      ]
    },
    {
      "cell_type": "markdown",
      "source": [
        "**Data Visualization**"
      ],
      "metadata": {
        "id": "ncmn-qORRCxd"
      }
    },
    {
      "cell_type": "code",
      "source": [
        "#create a data visualzation of bar/column/line chart of top 5 subjects ->\n",
        "top_5_subjects = (df['subject'].value_counts()).nlargest(5)\n",
        "top_5_subjects.plot(kind='bar', edgecolor='black', stacked=True)\n",
        "plt.xlabel('Subject Name')\n",
        "plt.ylabel('Number of News')"
      ],
      "metadata": {
        "colab": {
          "base_uri": "https://localhost:8080/",
          "height": 539
        },
        "id": "eROXji9NaGO4",
        "outputId": "62021935-7d04-4999-eed7-2c8477dccffe"
      },
      "execution_count": 52,
      "outputs": [
        {
          "output_type": "execute_result",
          "data": {
            "text/plain": [
              "Text(0, 0.5, 'Number of News')"
            ]
          },
          "metadata": {},
          "execution_count": 52
        },
        {
          "output_type": "display_data",
          "data": {
            "text/plain": [
              "<Figure size 640x480 with 1 Axes>"
            ],
            "image/png": "[encoded data removed]"
          },
          "metadata": {}
        }
      ]
    },
    {
      "cell_type": "markdown",
      "source": [
        "**Q5.** Create a pie chart to find the pecentage of news on differenet subject."
      ],
      "metadata": {
        "id": "VKGG5NPoVeMc"
      }
    },
    {
      "cell_type": "code",
      "source": [
        "# Count number of news articles by 'subject'\n",
        "subject_counts = df['subject'].value_counts()\n",
        "\n",
        "# Plot a pie chart\n",
        "plt.figure(figsize=(8,8))\n",
        "plt.pie(subject_counts, labels=subject_counts.index, autopct='%1.1f%%', startangle=140)\n",
        "plt.title(\"Percentage of News by Subject\")\n",
        "plt.show()"
      ],
      "metadata": {
        "colab": {
          "base_uri": "https://localhost:8080/",
          "height": 675
        },
        "id": "wVxuFHjsaJth",
        "outputId": "d47e197a-d5fd-417f-aee0-a186a58765ca"
      },
      "execution_count": 53,
      "outputs": [
        {
          "output_type": "display_data",
          "data": {
            "text/plain": [
              "<Figure size 800x800 with 1 Axes>"
            ],
            "image/png": "[encoded data removed]"
          },
          "metadata": {}
        }
      ]
    },
    {
      "cell_type": "markdown",
      "source": [
        "**Text Processing**"
      ],
      "metadata": {
        "id": "XpYByiMRzkqh"
      }
    },
    {
      "cell_type": "code",
      "source": [
        "# function to remove space,special charecter and convert all text into lower case\n",
        "def wordopt(text):\n",
        "  text = text.lower()\n",
        "  text= re.sub(r'https://\\S+|www\\.\\S+','',text) # remove https:// or www.com\n",
        "  text = re.sub(r'[^\\w]',' ', text) #remove special charecter\n",
        "  text= re.sub(r'\\s+',' ',text) #remove multiple space\n",
        "\n",
        "  return text"
      ],
      "metadata": {
        "id": "VTzJE7XygtnG"
      },
      "execution_count": 54,
      "outputs": []
    },
    {
      "cell_type": "code",
      "source": [
        "# drop unnecessary columns for classification purpose\n",
        "df1= df.drop(['title','subject','date'],axis=1)"
      ],
      "metadata": {
        "id": "CxBAn_R2gYtZ"
      },
      "execution_count": 55,
      "outputs": []
    },
    {
      "cell_type": "code",
      "source": [
        "# apply wordopt method to the whole dataset and view the text content of a random data point\n",
        "df1['text']=df1['text'].apply(wordopt)\n",
        "df1['text'][100]"
      ],
      "metadata": {
        "colab": {
          "base_uri": "https://localhost:8080/",
          "height": 123
        },
        "id": "R788TyvlaMMG",
        "outputId": "110f963e-e7ec-4aa2-cb06-0476d32dcf8f"
      },
      "execution_count": 56,
      "outputs": [
        {
          "output_type": "execute_result",
          "data": {
            "text/plain": [
              "'former vice president joe biden was asked on monday by matt lauer on nbc s today to name something specific that donald trump has been doing well well that seems like a trick question since trump has passed no major legislation and reaches across the aisle only to take shots at democrats in his twitter timeline during his morning rage tweets so biden struggled to find something anything that trump has done well since taking office i think there s a number of things he s doing well but even the things he s doing well it s how he does them biden said it s more the tone of this administration that bothers me he continued with all due respect you haven t come up with one thing you think he s doing well lauer said well i think he married very well biden joked although biden didn t mention which of trump s three marriages he s speaking of trump s first marriage to ivana ended after he had an affair with marla maples trump went on to marry maples then they divorced trump is currently married to melania all three of trump s wives are former models trump is a former reality show star but in all instances he did marry up since there is no down that trump hasn t hit yet after struggling to come up with something biden eventually praised trump s choice of keeping military personnel stationed in the middle east that was there at the end of the obama administration watch what do you think trump is doing well i think he married very well joe biden answers questions on todayshow nbc news nbcnews november 13 2017in january biden had some advice for trump grow up donald biden said of the 71 year old man baby grow up time to be an adult you re president you gotta do something show us what you have biden added after speculation of biden running for president in 2020 he admitted on monday that he isn t ruling it out but added he could not accept the nomination if it was given to him right now photo by chip somodevilla getty images '"
            ],
            "application/vnd.google.colaboratory.intrinsic+json": {
              "type": "string"
            }
          },
          "metadata": {},
          "execution_count": 56
        }
      ]
    },
    {
      "cell_type": "markdown",
      "source": [
        "# **Building Model**"
      ],
      "metadata": {
        "id": "7zOv17e_5vnY"
      }
    },
    {
      "cell_type": "code",
      "source": [
        "# Separate independent and target columns from the dataset and stored them in x & y variables\n",
        "x= df1['text']\n",
        "y= df1['class']"
      ],
      "metadata": {
        "id": "QndHYbDu50RF"
      },
      "execution_count": 57,
      "outputs": []
    },
    {
      "cell_type": "markdown",
      "source": [
        "**Q6.** Split the dataset into training and testing sets with 25% test size and store them in x_train, x_test, y_train, and y_test."
      ],
      "metadata": {
        "id": "vdbNrbifWSK1"
      }
    },
    {
      "cell_type": "code",
      "source": [
        "from sklearn.model_selection import train_test_split\n",
        "\n",
        "# Split data into training and testing sets, keeping class proportions\n",
        "x_train, x_test, y_train, y_test = train_test_split(\n",
        "    x, y, test_size=0.25, random_state=42, stratify=y\n",
        ")\n",
        "\n",
        "# Print the size of training and testing datasets\n",
        "print(\"Training data size:\", x_train.shape[0])\n",
        "print(\"Testing data size:\", x_test.shape[0])"
      ],
      "metadata": {
        "colab": {
          "base_uri": "https://localhost:8080/"
        },
        "id": "ld6WwGVfaP30",
        "outputId": "d02b9e4a-19e9-479c-8786-42c937ee7469"
      },
      "execution_count": 58,
      "outputs": [
        {
          "output_type": "stream",
          "name": "stdout",
          "text": [
            "Training data size: 33673\n",
            "Testing data size: 11225\n"
          ]
        }
      ]
    },
    {
      "cell_type": "markdown",
      "source": [
        "## **Word Embedding ( Word2Vec )**"
      ],
      "metadata": {
        "id": "3wRqdiRIkqTe"
      }
    },
    {
      "cell_type": "code",
      "source": [
        "# import bbc_news data using url link in json format for training Word2Vec word embedding model\n",
        "news = pd.read_json('https://query.data.world/s/7c6p2lxb3wjibfsfbp4mwy7p7y4y2d?dws=00000')\n",
        "news_seg = news['content']\n",
        "print(\"Size of Word Dictonary for training Word2Vec: \",news_seg.shape[0])\n",
        "news_seg.head(2)"
      ],
      "metadata": {
        "colab": {
          "base_uri": "https://localhost:8080/",
          "height": 164
        },
        "id": "HcaAVcSwaSoF",
        "outputId": "8fffd8d5-3699-4eb5-c3b0-6f1877d44ab3"
      },
      "execution_count": 59,
      "outputs": [
        {
          "output_type": "stream",
          "name": "stdout",
          "text": [
            "Size of Word Dictonary for training Word2Vec:  15825\n"
          ]
        },
        {
          "output_type": "execute_result",
          "data": {
            "text/plain": [
              "0    The heroin substitute methadone can be used as...\n",
              "1    The eldest son of North Korean leader Kim Jong...\n",
              "Name: content, dtype: object"
            ],
            "text/html": [
              "<div>\n",
              "<style scoped>\n",
              "    .dataframe tbody tr th:only-of-type {\n",
              "        vertical-align: middle;\n",
              "    }\n",
              "\n",
              "    .dataframe tbody tr th {\n",
              "        vertical-align: top;\n",
              "    }\n",
              "\n",
              "    .dataframe thead th {\n",
              "        text-align: right;\n",
              "    }\n",
              "</style>\n",
              "<table border=\"1\" class=\"dataframe\">\n",
              "  <thead>\n",
              "    <tr style=\"text-align: right;\">\n",
              "      <th></th>\n",
              "      <th>content</th>\n",
              "    </tr>\n",
              "  </thead>\n",
              "  <tbody>\n",
              "    <tr>\n",
              "      <th>0</th>\n",
              "      <td>The heroin substitute methadone can be used as...</td>\n",
              "    </tr>\n",
              "    <tr>\n",
              "      <th>1</th>\n",
              "      <td>The eldest son of North Korean leader Kim Jong...</td>\n",
              "    </tr>\n",
              "  </tbody>\n",
              "</table>\n",
              "</div><br><label><b>dtype:</b> object</label>"
            ]
          },
          "metadata": {},
          "execution_count": 59
        }
      ]
    },
    {
      "cell_type": "code",
      "source": [
        "# apply wordopt function for text processing\n",
        "news_seg=news_seg.apply(wordopt)\n",
        "sentences = [sentence.split() for sentence in news_seg ]\n",
        "w2v_model = Word2Vec(sentences,  window=5, min_count=5, workers=4)"
      ],
      "metadata": {
        "id": "AsJm3KoQQqVg"
      },
      "execution_count": 60,
      "outputs": []
    },
    {
      "cell_type": "code",
      "source": [
        "# function to convert a sentence into vector form\n",
        "def vectorize(sentence):\n",
        "    words = sentence.split()\n",
        "    words_vecs = [w2v_model.wv[word] for word in words if word in w2v_model.wv]\n",
        "    if len(words_vecs) == 0:\n",
        "        return np.zeros(100)\n",
        "    words_vecs = np.array(words_vecs)\n",
        "    return words_vecs.mean(axis=0)"
      ],
      "metadata": {
        "id": "lArJrYw97x1y"
      },
      "execution_count": 61,
      "outputs": []
    },
    {
      "cell_type": "code",
      "source": [
        "# convert train and test dataset into vector form\n",
        "xv_train = np.array([vectorize(sentence) for sentence in x_train])\n",
        "xv_test = np.array([vectorize(sentence) for sentence in x_test])"
      ],
      "metadata": {
        "id": "NWzl8y8uldSE"
      },
      "execution_count": 62,
      "outputs": []
    },
    {
      "cell_type": "markdown",
      "source": [
        "##**Logistic Regression**"
      ],
      "metadata": {
        "id": "VzFibvAbYktA"
      }
    },
    {
      "cell_type": "code",
      "source": [
        "# Trains a Logistic Regression model using vector formed trained data ->\n",
        "from sklearn.linear_model import LogisticRegression\n",
        "logistic_model = LogisticRegression()\n",
        "logistic_model.fit(xv_train,y_train)"
      ],
      "metadata": {
        "colab": {
          "base_uri": "https://localhost:8080/",
          "height": 80
        },
        "id": "a_BXUpkaaVyK",
        "outputId": "007a0686-2c9e-483d-a0f0-adafa993ba78"
      },
      "execution_count": 63,
      "outputs": [
        {
          "output_type": "execute_result",
          "data": {
            "text/plain": [
              "LogisticRegression()"
            ],
            "text/html": [
              "<style>#sk-container-id-2 {\n",
              "  /* Definition of color scheme common for light and dark mode */\n",
              "  --sklearn-color-text: #000;\n",
              "  --sklearn-color-text-muted: #666;\n",
              "  --sklearn-color-line: gray;\n",
              "  /* Definition of color scheme for unfitted estimators */\n",
              "  --sklearn-color-unfitted-level-0: #fff5e6;\n",
              "  --sklearn-color-unfitted-level-1: #f6e4d2;\n",
              "  --sklearn-color-unfitted-level-2: #ffe0b3;\n",
              "  --sklearn-color-unfitted-level-3: chocolate;\n",
              "  /* Definition of color scheme for fitted estimators */\n",
              "  --sklearn-color-fitted-level-0: #f0f8ff;\n",
              "  --sklearn-color-fitted-level-1: #d4ebff;\n",
              "  --sklearn-color-fitted-level-2: #b3dbfd;\n",
              "  --sklearn-color-fitted-level-3: cornflowerblue;\n",
              "\n",
              "  /* Specific color for light theme */\n",
              "  --sklearn-color-text-on-default-background: var(--sg-text-color, var(--theme-code-foreground, var(--jp-content-font-color1, black)));\n",
              "  --sklearn-color-background: var(--sg-background-color, var(--theme-background, var(--jp-layout-color0, white)));\n",
              "  --sklearn-color-border-box: var(--sg-text-color, var(--theme-code-foreground, var(--jp-content-font-color1, black)));\n",
              "  --sklearn-color-icon: #696969;\n",
              "\n",
              "  @media (prefers-color-scheme: dark) {\n",
              "    /* Redefinition of color scheme for dark theme */\n",
              "    --sklearn-color-text-on-default-background: var(--sg-text-color, var(--theme-code-foreground, var(--jp-content-font-color1, white)));\n",
              "    --sklearn-color-background: var(--sg-background-color, var(--theme-background, var(--jp-layout-color0, #111)));\n",
              "    --sklearn-color-border-box: var(--sg-text-color, var(--theme-code-foreground, var(--jp-content-font-color1, white)));\n",
              "    --sklearn-color-icon: #878787;\n",
              "  }\n",
              "}\n",
              "\n",
              "#sk-container-id-2 {\n",
              "  color: var(--sklearn-color-text);\n",
              "}\n",
              "\n",
              "#sk-container-id-2 pre {\n",
              "  padding: 0;\n",
              "}\n",
              "\n",
              "#sk-container-id-2 input.sk-hidden--visually {\n",
              "  border: 0;\n",
              "  clip: rect(1px 1px 1px 1px);\n",
              "  clip: rect(1px, 1px, 1px, 1px);\n",
              "  height: 1px;\n",
              "  margin: -1px;\n",
              "  overflow: hidden;\n",
              "  padding: 0;\n",
              "  position: absolute;\n",
              "  width: 1px;\n",
              "}\n",
              "\n",
              "#sk-container-id-2 div.sk-dashed-wrapped {\n",
              "  border: 1px dashed var(--sklearn-color-line);\n",
              "  margin: 0 0.4em 0.5em 0.4em;\n",
              "  box-sizing: border-box;\n",
              "  padding-bottom: 0.4em;\n",
              "  background-color: var(--sklearn-color-background);\n",
              "}\n",
              "\n",
              "#sk-container-id-2 div.sk-container {\n",
              "  /* jupyter's `normalize.less` sets `[hidden] { display: none; }`\n",
              "     but bootstrap.min.css set `[hidden] { display: none !important; }`\n",
              "     so we also need the `!important` here to be able to override the\n",
              "     default hidden behavior on the sphinx rendered scikit-learn.org.\n",
              "     See: https://github.com/scikit-learn/scikit-learn/issues/21755 */\n",
              "  display: inline-block !important;\n",
              "  position: relative;\n",
              "}\n",
              "\n",
              "#sk-container-id-2 div.sk-text-repr-fallback {\n",
              "  display: none;\n",
              "}\n",
              "\n",
              "div.sk-parallel-item,\n",
              "div.sk-serial,\n",
              "div.sk-item {\n",
              "  /* draw centered vertical line to link estimators */\n",
              "  background-image: linear-gradient(var(--sklearn-color-text-on-default-background), var(--sklearn-color-text-on-default-background));\n",
              "  background-size: 2px 100%;\n",
              "  background-repeat: no-repeat;\n",
              "  background-position: center center;\n",
              "}\n",
              "\n",
              "/* Parallel-specific style estimator block */\n",
              "\n",
              "#sk-container-id-2 div.sk-parallel-item::after {\n",
              "  content: \"\";\n",
              "  width: 100%;\n",
              "  border-bottom: 2px solid var(--sklearn-color-text-on-default-background);\n",
              "  flex-grow: 1;\n",
              "}\n",
              "\n",
              "#sk-container-id-2 div.sk-parallel {\n",
              "  display: flex;\n",
              "  align-items: stretch;\n",
              "  justify-content: center;\n",
              "  background-color: var(--sklearn-color-background);\n",
              "  position: relative;\n",
              "}\n",
              "\n",
              "#sk-container-id-2 div.sk-parallel-item {\n",
              "  display: flex;\n",
              "  flex-direction: column;\n",
              "}\n",
              "\n",
              "#sk-container-id-2 div.sk-parallel-item:first-child::after {\n",
              "  align-self: flex-end;\n",
              "  width: 50%;\n",
              "}\n",
              "\n",
              "#sk-container-id-2 div.sk-parallel-item:last-child::after {\n",
              "  align-self: flex-start;\n",
              "  width: 50%;\n",
              "}\n",
              "\n",
              "#sk-container-id-2 div.sk-parallel-item:only-child::after {\n",
              "  width: 0;\n",
              "}\n",
              "\n",
              "/* Serial-specific style estimator block */\n",
              "\n",
              "#sk-container-id-2 div.sk-serial {\n",
              "  display: flex;\n",
              "  flex-direction: column;\n",
              "  align-items: center;\n",
              "  background-color: var(--sklearn-color-background);\n",
              "  padding-right: 1em;\n",
              "  padding-left: 1em;\n",
              "}\n",
              "\n",
              "\n",
              "/* Toggleable style: style used for estimator/Pipeline/ColumnTransformer box that is\n",
              "clickable and can be expanded/collapsed.\n",
              "- Pipeline and ColumnTransformer use this feature and define the default style\n",
              "- Estimators will overwrite some part of the style using the `sk-estimator` class\n",
              "*/\n",
              "\n",
              "/* Pipeline and ColumnTransformer style (default) */\n",
              "\n",
              "#sk-container-id-2 div.sk-toggleable {\n",
              "  /* Default theme specific background. It is overwritten whether we have a\n",
              "  specific estimator or a Pipeline/ColumnTransformer */\n",
              "  background-color: var(--sklearn-color-background);\n",
              "}\n",
              "\n",
              "/* Toggleable label */\n",
              "#sk-container-id-2 label.sk-toggleable__label {\n",
              "  cursor: pointer;\n",
              "  display: flex;\n",
              "  width: 100%;\n",
              "  margin-bottom: 0;\n",
              "  padding: 0.5em;\n",
              "  box-sizing: border-box;\n",
              "  text-align: center;\n",
              "  align-items: start;\n",
              "  justify-content: space-between;\n",
              "  gap: 0.5em;\n",
              "}\n",
              "\n",
              "#sk-container-id-2 label.sk-toggleable__label .caption {\n",
              "  font-size: 0.6rem;\n",
              "  font-weight: lighter;\n",
              "  color: var(--sklearn-color-text-muted);\n",
              "}\n",
              "\n",
              "#sk-container-id-2 label.sk-toggleable__label-arrow:before {\n",
              "  /* Arrow on the left of the label */\n",
              "  content: \"▸\";\n",
              "  float: left;\n",
              "  margin-right: 0.25em;\n",
              "  color: var(--sklearn-color-icon);\n",
              "}\n",
              "\n",
              "#sk-container-id-2 label.sk-toggleable__label-arrow:hover:before {\n",
              "  color: var(--sklearn-color-text);\n",
              "}\n",
              "\n",
              "/* Toggleable content - dropdown */\n",
              "\n",
              "#sk-container-id-2 div.sk-toggleable__content {\n",
              "  max-height: 0;\n",
              "  max-width: 0;\n",
              "  overflow: hidden;\n",
              "  text-align: left;\n",
              "  /* unfitted */\n",
              "  background-color: var(--sklearn-color-unfitted-level-0);\n",
              "}\n",
              "\n",
              "#sk-container-id-2 div.sk-toggleable__content.fitted {\n",
              "  /* fitted */\n",
              "  background-color: var(--sklearn-color-fitted-level-0);\n",
              "}\n",
              "\n",
              "#sk-container-id-2 div.sk-toggleable__content pre {\n",
              "  margin: 0.2em;\n",
              "  border-radius: 0.25em;\n",
              "  color: var(--sklearn-color-text);\n",
              "  /* unfitted */\n",
              "  background-color: var(--sklearn-color-unfitted-level-0);\n",
              "}\n",
              "\n",
              "#sk-container-id-2 div.sk-toggleable__content.fitted pre {\n",
              "  /* unfitted */\n",
              "  background-color: var(--sklearn-color-fitted-level-0);\n",
              "}\n",
              "\n",
              "#sk-container-id-2 input.sk-toggleable__control:checked~div.sk-toggleable__content {\n",
              "  /* Expand drop-down */\n",
              "  max-height: 200px;\n",
              "  max-width: 100%;\n",
              "  overflow: auto;\n",
              "}\n",
              "\n",
              "#sk-container-id-2 input.sk-toggleable__control:checked~label.sk-toggleable__label-arrow:before {\n",
              "  content: \"▾\";\n",
              "}\n",
              "\n",
              "/* Pipeline/ColumnTransformer-specific style */\n",
              "\n",
              "#sk-container-id-2 div.sk-label input.sk-toggleable__control:checked~label.sk-toggleable__label {\n",
              "  color: var(--sklearn-color-text);\n",
              "  background-color: var(--sklearn-color-unfitted-level-2);\n",
              "}\n",
              "\n",
              "#sk-container-id-2 div.sk-label.fitted input.sk-toggleable__control:checked~label.sk-toggleable__label {\n",
              "  background-color: var(--sklearn-color-fitted-level-2);\n",
              "}\n",
              "\n",
              "/* Estimator-specific style */\n",
              "\n",
              "/* Colorize estimator box */\n",
              "#sk-container-id-2 div.sk-estimator input.sk-toggleable__control:checked~label.sk-toggleable__label {\n",
              "  /* unfitted */\n",
              "  background-color: var(--sklearn-color-unfitted-level-2);\n",
              "}\n",
              "\n",
              "#sk-container-id-2 div.sk-estimator.fitted input.sk-toggleable__control:checked~label.sk-toggleable__label {\n",
              "  /* fitted */\n",
              "  background-color: var(--sklearn-color-fitted-level-2);\n",
              "}\n",
              "\n",
              "#sk-container-id-2 div.sk-label label.sk-toggleable__label,\n",
              "#sk-container-id-2 div.sk-label label {\n",
              "  /* The background is the default theme color */\n",
              "  color: var(--sklearn-color-text-on-default-background);\n",
              "}\n",
              "\n",
              "/* On hover, darken the color of the background */\n",
              "#sk-container-id-2 div.sk-label:hover label.sk-toggleable__label {\n",
              "  color: var(--sklearn-color-text);\n",
              "  background-color: var(--sklearn-color-unfitted-level-2);\n",
              "}\n",
              "\n",
              "/* Label box, darken color on hover, fitted */\n",
              "#sk-container-id-2 div.sk-label.fitted:hover label.sk-toggleable__label.fitted {\n",
              "  color: var(--sklearn-color-text);\n",
              "  background-color: var(--sklearn-color-fitted-level-2);\n",
              "}\n",
              "\n",
              "/* Estimator label */\n",
              "\n",
              "#sk-container-id-2 div.sk-label label {\n",
              "  font-family: monospace;\n",
              "  font-weight: bold;\n",
              "  display: inline-block;\n",
              "  line-height: 1.2em;\n",
              "}\n",
              "\n",
              "#sk-container-id-2 div.sk-label-container {\n",
              "  text-align: center;\n",
              "}\n",
              "\n",
              "/* Estimator-specific */\n",
              "#sk-container-id-2 div.sk-estimator {\n",
              "  font-family: monospace;\n",
              "  border: 1px dotted var(--sklearn-color-border-box);\n",
              "  border-radius: 0.25em;\n",
              "  box-sizing: border-box;\n",
              "  margin-bottom: 0.5em;\n",
              "  /* unfitted */\n",
              "  background-color: var(--sklearn-color-unfitted-level-0);\n",
              "}\n",
              "\n",
              "#sk-container-id-2 div.sk-estimator.fitted {\n",
              "  /* fitted */\n",
              "  background-color: var(--sklearn-color-fitted-level-0);\n",
              "}\n",
              "\n",
              "/* on hover */\n",
              "#sk-container-id-2 div.sk-estimator:hover {\n",
              "  /* unfitted */\n",
              "  background-color: var(--sklearn-color-unfitted-level-2);\n",
              "}\n",
              "\n",
              "#sk-container-id-2 div.sk-estimator.fitted:hover {\n",
              "  /* fitted */\n",
              "  background-color: var(--sklearn-color-fitted-level-2);\n",
              "}\n",
              "\n",
              "/* Specification for estimator info (e.g. \"i\" and \"?\") */\n",
              "\n",
              "/* Common style for \"i\" and \"?\" */\n",
              "\n",
              ".sk-estimator-doc-link,\n",
              "a:link.sk-estimator-doc-link,\n",
              "a:visited.sk-estimator-doc-link {\n",
              "  float: right;\n",
              "  font-size: smaller;\n",
              "  line-height: 1em;\n",
              "  font-family: monospace;\n",
              "  background-color: var(--sklearn-color-background);\n",
              "  border-radius: 1em;\n",
              "  height: 1em;\n",
              "  width: 1em;\n",
              "  text-decoration: none !important;\n",
              "  margin-left: 0.5em;\n",
              "  text-align: center;\n",
              "  /* unfitted */\n",
              "  border: var(--sklearn-color-unfitted-level-1) 1pt solid;\n",
              "  color: var(--sklearn-color-unfitted-level-1);\n",
              "}\n",
              "\n",
              ".sk-estimator-doc-link.fitted,\n",
              "a:link.sk-estimator-doc-link.fitted,\n",
              "a:visited.sk-estimator-doc-link.fitted {\n",
              "  /* fitted */\n",
              "  border: var(--sklearn-color-fitted-level-1) 1pt solid;\n",
              "  color: var(--sklearn-color-fitted-level-1);\n",
              "}\n",
              "\n",
              "/* On hover */\n",
              "div.sk-estimator:hover .sk-estimator-doc-link:hover,\n",
              ".sk-estimator-doc-link:hover,\n",
              "div.sk-label-container:hover .sk-estimator-doc-link:hover,\n",
              ".sk-estimator-doc-link:hover {\n",
              "  /* unfitted */\n",
              "  background-color: var(--sklearn-color-unfitted-level-3);\n",
              "  color: var(--sklearn-color-background);\n",
              "  text-decoration: none;\n",
              "}\n",
              "\n",
              "div.sk-estimator.fitted:hover .sk-estimator-doc-link.fitted:hover,\n",
              ".sk-estimator-doc-link.fitted:hover,\n",
              "div.sk-label-container:hover .sk-estimator-doc-link.fitted:hover,\n",
              ".sk-estimator-doc-link.fitted:hover {\n",
              "  /* fitted */\n",
              "  background-color: var(--sklearn-color-fitted-level-3);\n",
              "  color: var(--sklearn-color-background);\n",
              "  text-decoration: none;\n",
              "}\n",
              "\n",
              "/* Span, style for the box shown on hovering the info icon */\n",
              ".sk-estimator-doc-link span {\n",
              "  display: none;\n",
              "  z-index: 9999;\n",
              "  position: relative;\n",
              "  font-weight: normal;\n",
              "  right: .2ex;\n",
              "  padding: .5ex;\n",
              "  margin: .5ex;\n",
              "  width: min-content;\n",
              "  min-width: 20ex;\n",
              "  max-width: 50ex;\n",
              "  color: var(--sklearn-color-text);\n",
              "  box-shadow: 2pt 2pt 4pt #999;\n",
              "  /* unfitted */\n",
              "  background: var(--sklearn-color-unfitted-level-0);\n",
              "  border: .5pt solid var(--sklearn-color-unfitted-level-3);\n",
              "}\n",
              "\n",
              ".sk-estimator-doc-link.fitted span {\n",
              "  /* fitted */\n",
              "  background: var(--sklearn-color-fitted-level-0);\n",
              "  border: var(--sklearn-color-fitted-level-3);\n",
              "}\n",
              "\n",
              ".sk-estimator-doc-link:hover span {\n",
              "  display: block;\n",
              "}\n",
              "\n",
              "/* \"?\"-specific style due to the `<a>` HTML tag */\n",
              "\n",
              "#sk-container-id-2 a.estimator_doc_link {\n",
              "  float: right;\n",
              "  font-size: 1rem;\n",
              "  line-height: 1em;\n",
              "  font-family: monospace;\n",
              "  background-color: var(--sklearn-color-background);\n",
              "  border-radius: 1rem;\n",
              "  height: 1rem;\n",
              "  width: 1rem;\n",
              "  text-decoration: none;\n",
              "  /* unfitted */\n",
              "  color: var(--sklearn-color-unfitted-level-1);\n",
              "  border: var(--sklearn-color-unfitted-level-1) 1pt solid;\n",
              "}\n",
              "\n",
              "#sk-container-id-2 a.estimator_doc_link.fitted {\n",
              "  /* fitted */\n",
              "  border: var(--sklearn-color-fitted-level-1) 1pt solid;\n",
              "  color: var(--sklearn-color-fitted-level-1);\n",
              "}\n",
              "\n",
              "/* On hover */\n",
              "#sk-container-id-2 a.estimator_doc_link:hover {\n",
              "  /* unfitted */\n",
              "  background-color: var(--sklearn-color-unfitted-level-3);\n",
              "  color: var(--sklearn-color-background);\n",
              "  text-decoration: none;\n",
              "}\n",
              "\n",
              "#sk-container-id-2 a.estimator_doc_link.fitted:hover {\n",
              "  /* fitted */\n",
              "  background-color: var(--sklearn-color-fitted-level-3);\n",
              "}\n",
              "</style><div id=\"sk-container-id-2\" class=\"sk-top-container\"><div class=\"sk-text-repr-fallback\"><pre>LogisticRegression()</pre><b>In a Jupyter environment, please rerun this cell to show the HTML representation or trust the notebook. <br />On GitHub, the HTML representation is unable to render, please try loading this page with nbviewer.org.</b></div><div class=\"sk-container\" hidden><div class=\"sk-item\"><div class=\"sk-estimator fitted sk-toggleable\"><input class=\"sk-toggleable__control sk-hidden--visually\" id=\"sk-estimator-id-2\" type=\"checkbox\" checked><label for=\"sk-estimator-id-2\" class=\"sk-toggleable__label fitted sk-toggleable__label-arrow\"><div><div>LogisticRegression</div></div><div><a class=\"sk-estimator-doc-link fitted\" rel=\"noreferrer\" target=\"_blank\" href=\"https://scikit-learn.org/1.6/modules/generated/sklearn.linear_model.LogisticRegression.html\">?<span>Documentation for LogisticRegression</span></a><span class=\"sk-estimator-doc-link fitted\">i<span>Fitted</span></span></div></label><div class=\"sk-toggleable__content fitted\"><pre>LogisticRegression()</pre></div> </div></div></div></div>"
            ]
          },
          "metadata": {},
          "execution_count": 63
        }
      ]
    },
    {
      "cell_type": "code",
      "source": [
        "# detect the class(fake or true) on test data and evaluates its accuracy on test set\n",
        "y_pred = logistic_model.predict(xv_test)\n",
        "print(\"Prediction on test data: \",y_pred)\n",
        "print(\"Accuracy Score on Test Data: \",logistic_model.score(xv_test,y_test))"
      ],
      "metadata": {
        "colab": {
          "base_uri": "https://localhost:8080/"
        },
        "id": "k41jqK04aYLk",
        "outputId": "15196293-7deb-4feb-d0b8-494f5be054ca"
      },
      "execution_count": 64,
      "outputs": [
        {
          "output_type": "stream",
          "name": "stdout",
          "text": [
            "Prediction on test data:  [1 0 1 ... 1 0 0]\n",
            "Accuracy Score on Test Data:  0.9440534521158129\n"
          ]
        }
      ]
    },
    {
      "cell_type": "markdown",
      "source": [
        "####**Accuracy Checking**"
      ],
      "metadata": {
        "id": "yJdKrQTFnK1Z"
      }
    },
    {
      "cell_type": "code",
      "source": [
        "# Check Precision, Recall, F1 Score of the logistic model ->\n",
        "print('Accuracy:', accuracy_score(y_test, y_pred))\n",
        "print('Precision:', precision_score(y_test, y_pred))\n",
        "print('Recall:', recall_score(y_test, y_pred))\n",
        "print('F1 score:', f1_score(y_test, y_pred))"
      ],
      "metadata": {
        "colab": {
          "base_uri": "https://localhost:8080/"
        },
        "id": "RBpaYcUWaa_Q",
        "outputId": "79593749-9487-4e42-cfd8-7021ea7ac73b"
      },
      "execution_count": 65,
      "outputs": [
        {
          "output_type": "stream",
          "name": "stdout",
          "text": [
            "Accuracy: 0.9440534521158129\n",
            "Precision: 0.9505069599587558\n",
            "Recall: 0.942088230284449\n",
            "F1 score: 0.946278870829769\n"
          ]
        }
      ]
    },
    {
      "cell_type": "code",
      "source": [
        "# Check overall accuracy using confusion matrix\n",
        "from sklearn.metrics import confusion_matrix,ConfusionMatrixDisplay\n",
        "cm= confusion_matrix(y_test,y_pred)\n",
        "cm_display = ConfusionMatrixDisplay(confusion_matrix = cm)\n",
        "cm_display.plot()\n",
        "plt.show()"
      ],
      "metadata": {
        "colab": {
          "base_uri": "https://localhost:8080/",
          "height": 449
        },
        "id": "rxqUsLnBadlI",
        "outputId": "106c6588-968f-4c21-d1f2-6f79926358f5"
      },
      "execution_count": 66,
      "outputs": [
        {
          "output_type": "display_data",
          "data": {
            "text/plain": [
              "<Figure size 640x480 with 2 Axes>"
            ],
            "image/png": "[encoded data removed]"
          },
          "metadata": {}
        }
      ]
    },
    {
      "cell_type": "markdown",
      "source": [
        "##**Random Forest Classifier**"
      ],
      "metadata": {
        "id": "4mLirHL-J4kT"
      }
    },
    {
      "cell_type": "markdown",
      "source": [
        "####**Model Building and Prediction**"
      ],
      "metadata": {
        "id": "XvJgJX0yYG0M"
      }
    },
    {
      "cell_type": "markdown",
      "source": [
        "**Q7.** Use Random Forest Classifer for this classfication purpose and predict the outcomes for test data."
      ],
      "metadata": {
        "id": "OpT7bxd9XfYM"
      }
    },
    {
      "cell_type": "code",
      "source": [
        "from sklearn.ensemble import RandomForestClassifier\n",
        "\n",
        "# Train Random Forest model\n",
        "rf_model = RandomForestClassifier(n_estimators=100, random_state=42)\n",
        "rf_model.fit(xv_train, y_train)\n",
        "\n",
        "# Predict on test set\n",
        "y_rf_pred = rf_model.predict(xv_test)"
      ],
      "metadata": {
        "id": "pBkqgPskKf6f"
      },
      "execution_count": 67,
      "outputs": []
    },
    {
      "cell_type": "markdown",
      "source": [
        "####**Accuracy Checking**"
      ],
      "metadata": {
        "id": "fdpRN0MzLJQv"
      }
    },
    {
      "cell_type": "markdown",
      "source": [
        "**Q8.** Find the accuracy, precison, recall, F1 Score of the model while using Random Forest Classsifier and visualize overall accuracy using confusion matrix."
      ],
      "metadata": {
        "id": "lyg4B7b3YX-1"
      }
    },
    {
      "cell_type": "code",
      "source": [
        "from sklearn.metrics import accuracy_score, precision_score, recall_score, f1_score, confusion_matrix, ConfusionMatrixDisplay\n",
        "\n",
        "print(\"Random Forest Performance:\")\n",
        "print(\"Accuracy:\", accuracy_score(y_test, y_rf_pred))\n",
        "print(\"Precision:\", precision_score(y_test, y_rf_pred))\n",
        "print(\"Recall:\", recall_score(y_test, y_rf_pred))\n",
        "print(\"F1 Score:\", f1_score(y_test, y_rf_pred))\n",
        "\n",
        "# Confusion matrix\n",
        "cm_rf = confusion_matrix(y_test, y_rf_pred)\n",
        "ConfusionMatrixDisplay(cm_rf).plot()\n",
        "plt.show()"
      ],
      "metadata": {
        "colab": {
          "base_uri": "https://localhost:8080/",
          "height": 536
        },
        "id": "8ziq0ynuaiMM",
        "outputId": "206041c5-be0a-4b7a-98c3-1ba83e17dad1"
      },
      "execution_count": 68,
      "outputs": [
        {
          "output_type": "stream",
          "name": "stdout",
          "text": [
            "Random Forest Performance:\n",
            "Accuracy: 0.9434298440979956\n",
            "Precision: 0.9455411844792376\n",
            "Recall: 0.9463464486458866\n",
            "F1 Score: 0.9459436451860049\n"
          ]
        },
        {
          "output_type": "display_data",
          "data": {
            "text/plain": [
              "<Figure size 640x480 with 2 Axes>"
            ],
            "image/png": "[encoded data removed]"
          },
          "metadata": {}
        }
      ]
    },
    {
      "cell_type": "markdown",
      "source": [
        "#**Save the Model using pickle**"
      ],
      "metadata": {
        "id": "L_2hK8LyR1Kj"
      }
    },
    {
      "cell_type": "code",
      "source": [
        "# save the logistic regression model as pickle file\n",
        "import pickle\n",
        "filename1 = '/content/drive/My Drive/Colab Notebooks/csv/word2vec_logistic_model.pickle'\n",
        "pickle.dump(logistic_model, open(filename1, 'wb')) #word2vec model"
      ],
      "metadata": {
        "id": "pcmzkeaDGTfH"
      },
      "execution_count": 69,
      "outputs": []
    },
    {
      "cell_type": "code",
      "source": [
        "# Load the pickle file and checkout model score\n",
        "loaded_model = pickle.load(open(filename1, 'rb'))\n",
        "result = loaded_model.score(xv_test, y_test)\n",
        "print(result)"
      ],
      "metadata": {
        "colab": {
          "base_uri": "https://localhost:8080/"
        },
        "id": "onkkX8vfalj0",
        "outputId": "3a172389-6915-465a-b0fc-50957ca93cbd"
      },
      "execution_count": 70,
      "outputs": [
        {
          "output_type": "stream",
          "name": "stdout",
          "text": [
            "0.9440534521158129\n"
          ]
        }
      ]
    },
    {
      "cell_type": "markdown",
      "source": [
        "**Q9.** Save the trained Random Forest Model as pickle/svg file in your desired repository for further use."
      ],
      "metadata": {
        "id": "z5L4E0AxZGZN"
      }
    },
    {
      "cell_type": "code",
      "source": [
        "import pickle\n",
        "\n",
        "# Path to save Random Forest model\n",
        "filename_rf = '/content/drive/My Drive/Colab Notebooks/csv/word2vec_rf_model.pickle'\n",
        "\n",
        "# Save the trained Random Forest model\n",
        "pickle.dump(rf_model, open(filename_rf, 'wb'))\n",
        "\n",
        "print(\"Random Forest model saved successfully!\")"
      ],
      "metadata": {
        "colab": {
          "base_uri": "https://localhost:8080/"
        },
        "id": "sCb5Ilc2aoKb",
        "outputId": "3c789854-73b0-40f1-b313-41c8301b2061"
      },
      "execution_count": 71,
      "outputs": [
        {
          "output_type": "stream",
          "name": "stdout",
          "text": [
            "Random Forest model saved successfully!\n"
          ]
        }
      ]
    },
    {
      "cell_type": "markdown",
      "source": [
        "**Q10.** Load that saved model in another Notebook use it on other dataset for fake news detection."
      ],
      "metadata": {
        "id": "AVG0xCw0ZyvF"
      }
    },
    {
      "cell_type": "code",
      "source": [
        "import pickle\n",
        "import pandas as pd\n",
        "import numpy as np\n",
        "import re\n",
        "\n",
        "# Function to preprocess text (same as the one used during training)\n",
        "def wordopt(text):\n",
        "  text = text.lower()\n",
        "  text= re.sub(r'https://\\S+|www\\.\\S+','',text)\n",
        "  text = re.sub(r'[^\\w]',' ', text)\n",
        "  text= re.sub(r'\\s+',' ',text)\n",
        "  return text\n",
        "\n",
        "def vectorize(sentence, w2v_model):\n",
        "    words = sentence.split()\n",
        "    words_vecs = [w2v_model.wv[word] for word in words if word in w2v_model.wv]\n",
        "    if len(words_vecs) == 0:\n",
        "        return np.zeros(100)\n",
        "    words_vecs = np.array(words_vecs)\n",
        "    return words_vecs.mean(axis=0)\n",
        "\n",
        "filename_rf = '/content/drive/My Drive/Colab Notebooks/csv/word2vec_rf_model.pickle'\n",
        "\n",
        "# Load the trained Random Forest model\n",
        "loaded_rf_model = pickle.load(open(filename_rf, 'rb'))\n",
        "\n",
        "print(\"Model loaded successfully. Ready to predict on new data.\")"
      ],
      "metadata": {
        "colab": {
          "base_uri": "https://localhost:8080/"
        },
        "id": "ZRJea0QVasAT",
        "outputId": "049084b4-e7ac-4223-f485-0504684da1e3"
      },
      "execution_count": 72,
      "outputs": [
        {
          "output_type": "stream",
          "name": "stdout",
          "text": [
            "Model loaded successfully. Ready to predict on new data.\n"
          ]
        }
      ]
    },
    {
      "cell_type": "markdown",
      "source": [
        "**Q11(Optional).**\n",
        "\n",
        "\n",
        "1.  Try to enhance the model's accuracy by using adaboost or any other boosting methods.\n",
        "2.  Use TF-IDF or any other vectorizer instead of Word2Vec and study how much it affects on model's accuracy.\n",
        "\n",
        "\n",
        "\n",
        "\n"
      ],
      "metadata": {
        "id": "2MMFPqDjaffV"
      }
    },
    {
      "cell_type": "markdown",
      "source": [
        "### **Using TF-IDF Vectorizer**"
      ],
      "metadata": {
        "id": "GAMDsUZIUvkj"
      }
    },
    {
      "cell_type": "code",
      "source": [
        "from sklearn.feature_extraction.text import TfidfVectorizer\n",
        "\n",
        "# Initialize TF-IDF Vectorizer\n",
        "tfidf_vectorizer = TfidfVectorizer(stop_words='english', max_df=0.7)\n",
        "\n",
        "# Fit and transform the training data\n",
        "xv_train_tfidf = tfidf_vectorizer.fit_transform(x_train)\n",
        "\n",
        "# Transform the testing data\n",
        "xv_test_tfidf = tfidf_vectorizer.transform(x_test)\n",
        "\n",
        "print(\"TF-IDF vectorized training data shape:\", xv_train_tfidf.shape)\n",
        "print(\"TF-IDF vectorized testing data shape:\", xv_test_tfidf.shape)"
      ],
      "metadata": {
        "colab": {
          "base_uri": "https://localhost:8080/"
        },
        "id": "-gZHJHqaavu4",
        "outputId": "643cd980-4f9b-49b3-aa37-5b07fc9a63c0"
      },
      "execution_count": 73,
      "outputs": [
        {
          "output_type": "stream",
          "name": "stdout",
          "text": [
            "TF-IDF vectorized training data shape: (33673, 105125)\n",
            "TF-IDF vectorized testing data shape: (11225, 105125)\n"
          ]
        }
      ]
    },
    {
      "cell_type": "markdown",
      "source": [
        "### **Logistic Regression with TF-IDF**"
      ],
      "metadata": {
        "id": "wAI-cZjRUuDc"
      }
    },
    {
      "cell_type": "code",
      "source": [
        "from sklearn.linear_model import LogisticRegression\n",
        "from sklearn.metrics import accuracy_score, precision_score, recall_score, f1_score, confusion_matrix, ConfusionMatrixDisplay\n",
        "\n",
        "# Train Logistic Regression model with TF-IDF\n",
        "logistic_model_tfidf = LogisticRegression()\n",
        "logistic_model_tfidf.fit(xv_train_tfidf, y_train)\n",
        "\n",
        "# Predict on the test set\n",
        "y_pred_tfidf_lr = logistic_model_tfidf.predict(xv_test_tfidf)\n",
        "\n",
        "# Evaluate performance\n",
        "print(\"Logistic Regression with TF-IDF Performance:\")\n",
        "print(\"Accuracy:\", accuracy_score(y_test, y_pred_tfidf_lr))\n",
        "print(\"Precision:\", precision_score(y_test, y_pred_tfidf_lr))\n",
        "print(\"Recall:\", recall_score(y_test, y_pred_tfidf_lr))\n",
        "print(\"F1 Score:\", f1_score(y_test, y_pred_tfidf_lr))\n",
        "\n",
        "# Confusion matrix\n",
        "cm_tfidf_lr = confusion_matrix(y_test, y_pred_tfidf_lr)\n",
        "ConfusionMatrixDisplay(cm_tfidf_lr).plot()\n",
        "plt.title(\"Confusion Matrix (Logistic Regression with TF-IDF)\")\n",
        "plt.show()"
      ],
      "metadata": {
        "colab": {
          "base_uri": "https://localhost:8080/",
          "height": 559
        },
        "id": "bxB6aEbPays9",
        "outputId": "9a722045-aa13-4e9d-bd17-43b5845fa9dc"
      },
      "execution_count": 74,
      "outputs": [
        {
          "output_type": "stream",
          "name": "stdout",
          "text": [
            "Logistic Regression with TF-IDF Performance:\n",
            "Accuracy: 0.9848552338530067\n",
            "Precision: 0.9863504521412728\n",
            "Recall: 0.9846704138988247\n",
            "F1 Score: 0.9855097170132969\n"
          ]
        },
        {
          "output_type": "display_data",
          "data": {
            "text/plain": [
              "<Figure size 640x480 with 2 Axes>"
            ],
            "image/png": "[encoded data removed]"
          },
          "metadata": {}
        }
      ]
    },
    {
      "cell_type": "markdown",
      "source": [
        "### **Random Forest with TF-IDF**"
      ],
      "metadata": {
        "id": "JpV-g4l3U7kV"
      }
    },
    {
      "cell_type": "code",
      "source": [
        "from sklearn.ensemble import RandomForestClassifier\n",
        "from sklearn.metrics import accuracy_score, precision_score, recall_score, f1_score, confusion_matrix, ConfusionMatrixDisplay\n",
        "\n",
        "# Train Random Forest model with TF-IDF\n",
        "rf_model_tfidf = RandomForestClassifier(n_estimators=100, random_state=42)\n",
        "rf_model_tfidf.fit(xv_train_tfidf, y_train)\n",
        "\n",
        "# Predict on test set\n",
        "y_pred_tfidf_rf = rf_model_tfidf.predict(xv_test_tfidf)\n",
        "\n",
        "# Evaluate performance\n",
        "print(\"Random Forest with TF-IDF Performance:\")\n",
        "print(\"Accuracy:\", accuracy_score(y_test, y_pred_tfidf_rf))\n",
        "print(\"Precision:\", precision_score(y_test, y_pred_tfidf_rf))\n",
        "print(\"Recall:\", recall_score(y_test, y_pred_tfidf_rf))\n",
        "print(\"F1 Score:\", f1_score(y_test, y_pred_tfidf_rf))\n",
        "\n",
        "# Confusion matrix\n",
        "cm_tfidf_rf = confusion_matrix(y_test, y_pred_tfidf_rf)\n",
        "ConfusionMatrixDisplay(cm_tfidf_rf).plot()\n",
        "plt.title(\"Confusion Matrix (Random Forest with TF-IDF)\")\n",
        "plt.show()"
      ],
      "metadata": {
        "colab": {
          "base_uri": "https://localhost:8080/",
          "height": 559
        },
        "id": "kP-uagfra2hy",
        "outputId": "f7f4e6a0-7d4e-48e2-ea66-d1bacc6839dd"
      },
      "execution_count": 75,
      "outputs": [
        {
          "output_type": "stream",
          "name": "stdout",
          "text": [
            "Random Forest with TF-IDF Performance:\n",
            "Accuracy: 0.9914476614699332\n",
            "Precision: 0.9938429964084146\n",
            "Recall: 0.9897802759325498\n",
            "F1 Score: 0.9918074756784434\n"
          ]
        },
        {
          "output_type": "display_data",
          "data": {
            "text/plain": [
              "<Figure size 640x480 with 2 Axes>"
            ],
            "image/png": "[encoded data removed]"
          },
          "metadata": {}
        }
      ]
    },
    {
      "cell_type": "markdown",
      "source": [
        "### **Using AdaBoost Classifier**"
      ],
      "metadata": {
        "id": "vCsDDWCsVJ2p"
      }
    },
    {
      "cell_type": "code",
      "source": [
        "from sklearn.ensemble import AdaBoostClassifier\n",
        "from sklearn.tree import DecisionTreeClassifier\n",
        "from sklearn.metrics import accuracy_score, precision_score, recall_score, f1_score, confusion_matrix, ConfusionMatrixDisplay\n",
        "\n",
        "# Initialize AdaBoost Classifier (using Random Forest as the base estimator)\n",
        "# You can also use a DecisionTreeClassifier as the base estimator\n",
        "adaboost_model_rf = AdaBoostClassifier(estimator=RandomForestClassifier(n_estimators=50, random_state=42), n_estimators=100, random_state=42)\n",
        "\n",
        "# Train AdaBoost model (using Word2Vec vectorized data)\n",
        "adaboost_model_rf.fit(xv_train, y_train)\n",
        "\n",
        "# Predict on the test set\n",
        "y_pred_adaboost_rf = adaboost_model_rf.predict(xv_test)\n",
        "\n",
        "# Evaluate performance\n",
        "print(\"AdaBoost with Random Forest Base Estimator Performance (using Word2Vec):\")\n",
        "print(\"Accuracy:\", accuracy_score(y_test, y_pred_adaboost_rf))\n",
        "print(\"Precision:\", precision_score(y_test, y_pred_adaboost_rf))\n",
        "print(\"Recall:\", recall_score(y_test, y_pred_adaboost_rf))\n",
        "print(\"F1 Score:\", f1_score(y_test, y_pred_adaboost_rf))\n",
        "\n",
        "# Confusion matrix\n",
        "cm_adaboost_rf = confusion_matrix(y_test, y_pred_adaboost_rf)\n",
        "ConfusionMatrixDisplay(cm_adaboost_rf).plot()\n",
        "plt.title(\"Confusion Matrix (AdaBoost with Random Forest - Word2Vec)\")\n",
        "plt.show()"
      ],
      "metadata": {
        "colab": {
          "base_uri": "https://localhost:8080/",
          "height": 559
        },
        "id": "8tEgAWzdVO1x",
        "outputId": "695ffeeb-67c2-4ea5-d72b-26692b93b393"
      },
      "execution_count": 76,
      "outputs": [
        {
          "output_type": "stream",
          "name": "stdout",
          "text": [
            "AdaBoost with Random Forest Base Estimator Performance (using Word2Vec):\n",
            "Accuracy: 0.942271714922049\n",
            "Precision: 0.9454204332253112\n",
            "Recall: 0.944132175097939\n",
            "F1 Score: 0.94477586500767\n"
          ]
        },
        {
          "output_type": "display_data",
          "data": {
            "text/plain": [
              "<Figure size 640x480 with 2 Axes>"
            ],
            "image/png": "[encoded data removed]"
          },
          "metadata": {}
        }
      ]
    },
    {
      "cell_type": "code",
      "source": [
        "# Initialize AdaBoost Classifier (using Decision Tree as the base estimator)\n",
        "adaboost_model_dt = AdaBoostClassifier(estimator=DecisionTreeClassifier(max_depth=1), n_estimators=100, random_state=42)\n",
        "\n",
        "# Train AdaBoost model (using Word2Vec vectorized data)\n",
        "adaboost_model_dt.fit(xv_train, y_train)\n",
        "\n",
        "# Predict on the test set\n",
        "y_pred_adaboost_dt = adaboost_model_dt.predict(xv_test)\n",
        "\n",
        "# Evaluate performance\n",
        "print(\"AdaBoost with Decision Tree Base Estimator Performance (using Word2Vec):\")\n",
        "print(\"Accuracy:\", accuracy_score(y_test, y_pred_adaboost_dt))\n",
        "print(\"Precision:\", precision_score(y_test, y_pred_adaboost_dt))\n",
        "print(\"Recall:\", recall_score(y_test, y_pred_adaboost_dt))\n",
        "print(\"F1 Score:\", f1_score(y_test, y_pred_adaboost_dt))\n",
        "\n",
        "# Confusion matrix\n",
        "cm_adaboost_dt = confusion_matrix(y_test, y_pred_adaboost_dt)\n",
        "ConfusionMatrixDisplay(cm_adaboost_dt).plot()\n",
        "plt.title(\"Confusion Matrix (AdaBoost with Decision Tree - Word2Vec)\")\n",
        "plt.show()"
      ],
      "metadata": {
        "colab": {
          "base_uri": "https://localhost:8080/",
          "height": 559
        },
        "id": "4TPKArciVctZ",
        "outputId": "3f2fa654-24fb-44eb-a942-c21c9312fb5e"
      },
      "execution_count": 77,
      "outputs": [
        {
          "output_type": "stream",
          "name": "stdout",
          "text": [
            "AdaBoost with Decision Tree Base Estimator Performance (using Word2Vec):\n",
            "Accuracy: 0.9099331848552339\n",
            "Precision: 0.9202698028363888\n",
            "Recall: 0.9063191960483734\n",
            "F1 Score: 0.9132412254355101\n"
          ]
        },
        {
          "output_type": "display_data",
          "data": {
            "text/plain": [
              "<Figure size 640x480 with 2 Axes>"
            ],
            "image/png": "[encoded data removed]"
          },
          "metadata": {}
        }
      ]
    }
  ]
}